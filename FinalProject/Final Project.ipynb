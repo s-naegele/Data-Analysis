{
 "cells": [
  {
   "cell_type": "markdown",
   "metadata": {
    "deletable": false,
    "editable": false,
    "nbgrader": {
     "cell_type": "markdown",
     "checksum": "15a18abf8853d4912caf43bcd2fbed23",
     "grade": false,
     "grade_id": "cell-99f9d3ffb3422445",
     "locked": true,
     "schema_version": 3,
     "solution": false,
     "task": false
    },
    "slideshow": {
     "slide_type": "slide"
    }
   },
   "source": [
    "# Final Project - Final Utilities\n",
    "![Olympic Rings](https://idrottsforum.org/wp-content/uploads/2019/02/winter-olympics.jpg)"
   ]
  },
  {
   "cell_type": "code",
   "execution_count": null,
   "metadata": {
    "deletable": false,
    "editable": false,
    "nbgrader": {
     "cell_type": "code",
     "checksum": "1d6dd98d1ab33959bc5cf80edd2729b9",
     "grade": false,
     "grade_id": "cell-24f75ffe3c589fe6",
     "locked": true,
     "schema_version": 3,
     "solution": false,
     "task": false
    },
    "slideshow": {
     "slide_type": "skip"
    }
   },
   "outputs": [],
   "source": [
    "import pip\n",
    "!pip install pandas geopandas geopy matplotlib seaborn descartes"
   ]
  },
  {
   "cell_type": "code",
   "execution_count": null,
   "metadata": {
    "deletable": false,
    "editable": false,
    "nbgrader": {
     "cell_type": "code",
     "checksum": "988b96ff7b856f054f4b55f80c2aa01f",
     "grade": false,
     "grade_id": "cell-96d16c8ecf24e3ad",
     "locked": true,
     "schema_version": 3,
     "solution": false,
     "task": false
    },
    "slideshow": {
     "slide_type": "skip"
    }
   },
   "outputs": [],
   "source": [
    "import pandas as pd\n",
    "import matplotlib.pyplot as plt\n",
    "import seaborn as sns\n",
    "%matplotlib inline"
   ]
  },
  {
   "cell_type": "markdown",
   "metadata": {
    "deletable": false,
    "editable": false,
    "nbgrader": {
     "cell_type": "markdown",
     "checksum": "3fe1b45c6cbe82b2288538efa3c338ff",
     "grade": false,
     "grade_id": "cell-dc6c5271365dee91",
     "locked": true,
     "schema_version": 3,
     "solution": false,
     "task": false
    },
    "slideshow": {
     "slide_type": "subslide"
    }
   },
   "source": [
    "### Read the dataset"
   ]
  },
  {
   "cell_type": "code",
   "execution_count": null,
   "metadata": {
    "deletable": false,
    "editable": false,
    "nbgrader": {
     "cell_type": "code",
     "checksum": "ae1abf7b4b8e28688a3183e9a515edec",
     "grade": false,
     "grade_id": "cell-9abca96408902edf",
     "locked": true,
     "schema_version": 3,
     "solution": false,
     "task": false
    },
    "slideshow": {
     "slide_type": "fragment"
    }
   },
   "outputs": [],
   "source": [
    "athletes = pd.read_csv('athlete_events.csv')\n",
    "athletes.head()"
   ]
  },
  {
   "cell_type": "markdown",
   "metadata": {
    "deletable": false,
    "editable": false,
    "nbgrader": {
     "cell_type": "markdown",
     "checksum": "12489fa3ba5a69e510a46d9db94ae62a",
     "grade": false,
     "grade_id": "cell-e4f0da833d73b67e",
     "locked": true,
     "schema_version": 3,
     "solution": false,
     "task": false
    }
   },
   "source": [
    "### Quiz\n",
    "\n",
    "Here you have space for your work on the quiz! Good luck and have fun!"
   ]
  },
  {
   "cell_type": "code",
   "execution_count": null,
   "metadata": {
    "deletable": false,
    "nbgrader": {
     "cell_type": "code",
     "checksum": "620af3ab750956ed743e5878757c9f2e",
     "grade": true,
     "grade_id": "cell-e51ac6e9979a1fd9",
     "locked": false,
     "points": 0,
     "schema_version": 3,
     "solution": true,
     "task": false
    }
   },
   "outputs": [],
   "source": [
    "# YOUR CODE HERE\n",
    "raise NotImplementedError()"
   ]
  },
  {
   "cell_type": "markdown",
   "metadata": {
    "deletable": false,
    "editable": false,
    "nbgrader": {
     "cell_type": "markdown",
     "checksum": "b290befa333ea6e66e19eba2806d73d5",
     "grade": false,
     "grade_id": "cell-3e6a27156c55cbb4",
     "locked": true,
     "schema_version": 3,
     "solution": false,
     "task": false
    },
    "slideshow": {
     "slide_type": "subslide"
    }
   },
   "source": [
    "### Extract host cities"
   ]
  },
  {
   "cell_type": "code",
   "execution_count": null,
   "metadata": {
    "slideshow": {
     "slide_type": "fragment"
    }
   },
   "outputs": [],
   "source": [
    "hosts = athletes.loc[:, ['Games', 'City']]\n",
    "hosts.drop_duplicates(inplace=True)\n",
    "# hosts['City'].value_counts()\n",
    "# hosts['City'].unique()\n",
    "host_cities = pd.DataFrame(hosts['City'].unique(), columns=['City'])\n",
    "host_cities.head()"
   ]
  },
  {
   "cell_type": "markdown",
   "metadata": {
    "deletable": false,
    "editable": false,
    "nbgrader": {
     "cell_type": "markdown",
     "checksum": "400ece09e9cb1a159a69d85dbe8b141e",
     "grade": false,
     "grade_id": "cell-e993e7ea40f0cd30",
     "locked": true,
     "schema_version": 3,
     "solution": false,
     "task": false
    },
    "slideshow": {
     "slide_type": "subslide"
    }
   },
   "source": [
    "### \"Reverse-locate\" latitude and longitude\n",
    "\n",
    "We are using GeoPandas to display maps. See [these instructions](https://geopandas.org/install.html) on how to install GeoPandas."
   ]
  },
  {
   "cell_type": "code",
   "execution_count": null,
   "metadata": {},
   "outputs": [],
   "source": [
    "import geopandas as gpd\n",
    "from  geopy.geocoders import Nominatim"
   ]
  },
  {
   "cell_type": "code",
   "execution_count": null,
   "metadata": {
    "slideshow": {
     "slide_type": "fragment"
    }
   },
   "outputs": [],
   "source": [
    "geolocator = Nominatim(user_agent='TestForOlympic', timeout=100)  # set agent name according to your project\n",
    "latitudes = []\n",
    "longitudes = []\n",
    "\n",
    "for c in host_cities['City']:\n",
    "    loc = geolocator.geocode(c, timeout=100)  # time out to prevent being denied access\n",
    "    print(loc)\n",
    "    latitudes.append(loc.latitude)\n",
    "    longitudes.append(loc.longitude)"
   ]
  },
  {
   "cell_type": "markdown",
   "metadata": {
    "deletable": false,
    "editable": false,
    "nbgrader": {
     "cell_type": "markdown",
     "checksum": "45eb7b4ff068ae07898db2a2379b19f0",
     "grade": false,
     "grade_id": "cell-958a8d1d10051d6e",
     "locked": true,
     "schema_version": 3,
     "solution": false,
     "task": false
    }
   },
   "source": [
    "Adding the captured latitudinal and longitudinal data to the data frame."
   ]
  },
  {
   "cell_type": "code",
   "execution_count": null,
   "metadata": {
    "slideshow": {
     "slide_type": "subslide"
    }
   },
   "outputs": [],
   "source": [
    "host_cities['latitude'] = latitudes\n",
    "host_cities['longitude'] = longitudes\n",
    "host_cities.head()"
   ]
  },
  {
   "cell_type": "markdown",
   "metadata": {
    "deletable": false,
    "editable": false,
    "nbgrader": {
     "cell_type": "markdown",
     "checksum": "ee550fefbf1997b21eaf7805936c2089",
     "grade": false,
     "grade_id": "cell-77618d5daf44d334",
     "locked": true,
     "schema_version": 3,
     "solution": false,
     "task": false
    },
    "slideshow": {
     "slide_type": "subslide"
    }
   },
   "source": [
    "### Define geometry points\n",
    "Let's do that by means of a GeoDataFrame. Here we use the input from the DataFrame fille previously."
   ]
  },
  {
   "cell_type": "code",
   "execution_count": null,
   "metadata": {
    "slideshow": {
     "slide_type": "fragment"
    }
   },
   "outputs": [],
   "source": [
    "host_cities = gpd.GeoDataFrame(host_cities, geometry=gpd.points_from_xy(host_cities.longitude, host_cities.latitude))\n",
    "host_cities.head()"
   ]
  },
  {
   "cell_type": "markdown",
   "metadata": {
    "deletable": false,
    "editable": false,
    "nbgrader": {
     "cell_type": "markdown",
     "checksum": "d31cb44ecff21f079899833190087710",
     "grade": false,
     "grade_id": "cell-87462162ed9ee9f5",
     "locked": true,
     "schema_version": 3,
     "solution": false,
     "task": false
    },
    "slideshow": {
     "slide_type": "subslide"
    }
   },
   "source": [
    "### Draw and save map\n",
    "With this piece of code you can create your own map. For more on maps, stay tuned to the lab on maps."
   ]
  },
  {
   "cell_type": "code",
   "execution_count": null,
   "metadata": {
    "slideshow": {
     "slide_type": "fragment"
    }
   },
   "outputs": [],
   "source": [
    "world = gpd.read_file(gpd.datasets.get_path('naturalearth_lowres'))\n",
    "base = world.plot(color='lightgrey', edgecolor='black', figsize=(20,10))\n",
    "host_cities.plot(ax=base, marker='*', color='red', markersize=75)\n",
    "\n",
    "# annotation - but it is not useful for this example\n",
    "#for x, y, label in zip(host_cities.geometry.x, host_cities.geometry.y, host_cities.City):\n",
    "#    base.annotate(label, xy=(x, y), xytext=(3, 3), textcoords=\"offset points\")\n",
    "\n",
    "plt.title('Olympic Game Hosts Since 1896', fontsize=20)\n",
    "#plt.savefig('olympic_hosts.png', dpi=100)  # increase dpi for poster version\n"
   ]
  }
 ],
 "metadata": {
  "kernelspec": {
   "display_name": "Python 3",
   "language": "python",
   "name": "python3"
  },
  "language_info": {
   "codemirror_mode": {
    "name": "ipython",
    "version": 3
   },
   "file_extension": ".py",
   "mimetype": "text/x-python",
   "name": "python",
   "nbconvert_exporter": "python",
   "pygments_lexer": "ipython3",
   "version": "3.8.5"
  }
 },
 "nbformat": 4,
 "nbformat_minor": 2
}
