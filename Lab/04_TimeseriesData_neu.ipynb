{
 "cells": [
  {
   "cell_type": "markdown",
   "metadata": {
    "deletable": false,
    "editable": false,
    "nbgrader": {
     "cell_type": "markdown",
     "checksum": "a0044c1163cacdc1e6755aa867938270",
     "grade": false,
     "grade_id": "cell-4bce4bf3e32294c4",
     "locked": true,
     "schema_version": 3,
     "solution": false,
     "task": false
    },
    "slideshow": {
     "slide_type": "slide"
    }
   },
   "source": [
    "# Lab04: Timeseries Data\n",
    "![Time Series](https://uploads-ssl.webflow.com/5ec4696a9b6d337d51632638/6033e511c460742564ad33f7_63C156C6-39FD-4AB8-A947-0CA2F2B58180-p-800.png)"
   ]
  },
  {
   "cell_type": "code",
   "execution_count": null,
   "metadata": {
    "deletable": false,
    "editable": false,
    "nbgrader": {
     "cell_type": "code",
     "checksum": "4d8c3b1ef046ce1d41bb94edb24595b7",
     "grade": false,
     "grade_id": "cell-4d785e74d7aaf669",
     "locked": true,
     "schema_version": 3,
     "solution": false,
     "task": false
    },
    "slideshow": {
     "slide_type": "subslide"
    }
   },
   "outputs": [],
   "source": [
    "import pandas as pd\n",
    "import matplotlib.pyplot as plt\n",
    "import seaborn as sns\n",
    "%matplotlib inline"
   ]
  },
  {
   "cell_type": "markdown",
   "metadata": {
    "deletable": false,
    "editable": false,
    "nbgrader": {
     "cell_type": "markdown",
     "checksum": "4afdafefad5cf56fc49b2b9232548a66",
     "grade": false,
     "grade_id": "cell-7226bd7387a2c5a6",
     "locked": true,
     "schema_version": 3,
     "solution": false,
     "task": false
    }
   },
   "source": [
    "## Time Series Data Structures\n",
    "Pandas offers additional data structure for working with date and time. A single point in time is represented as a ``Timestamp``."
   ]
  },
  {
   "cell_type": "code",
   "execution_count": null,
   "metadata": {
    "slideshow": {
     "slide_type": "subslide"
    }
   },
   "outputs": [],
   "source": [
    "pd.to_datetime('2019-12-03 1:35pm')"
   ]
  },
  {
   "cell_type": "code",
   "execution_count": null,
   "metadata": {
    "slideshow": {
     "slide_type": "subslide"
    }
   },
   "outputs": [],
   "source": [
    "pd.to_datetime('7/8/1952')"
   ]
  },
  {
   "cell_type": "markdown",
   "metadata": {
    "deletable": false,
    "editable": false,
    "nbgrader": {
     "cell_type": "markdown",
     "checksum": "ee5f5b83f169c5ff66253776cf06bb63",
     "grade": false,
     "grade_id": "cell-96b84e059d4b15b3",
     "locked": true,
     "schema_version": 3,
     "solution": false,
     "task": false
    },
    "slideshow": {
     "slide_type": "fragment"
    }
   },
   "source": [
    "The above date is interpreted as ``month/day/year``. The order can be changed by setting the ``dayfirst`` parameter."
   ]
  },
  {
   "cell_type": "code",
   "execution_count": null,
   "metadata": {
    "slideshow": {
     "slide_type": "fragment"
    }
   },
   "outputs": [],
   "source": [
    "pd.to_datetime('7/8/1952', dayfirst=True)"
   ]
  },
  {
   "cell_type": "markdown",
   "metadata": {
    "deletable": false,
    "editable": false,
    "nbgrader": {
     "cell_type": "markdown",
     "checksum": "0f61db6c6ee8f220aa139faa1ea96178",
     "grade": false,
     "grade_id": "cell-63e2b625c151dd11",
     "locked": true,
     "schema_version": 3,
     "solution": false,
     "task": false
    },
    "slideshow": {
     "slide_type": "subslide"
    }
   },
   "source": [
    "If we supply a list or array of strings as input to ``to_datetime()``, a sequence of date/time values in a ``DatetimeIndex`` object is returned. This is the core data structure that powers much of pandas time series functionality."
   ]
  },
  {
   "cell_type": "code",
   "execution_count": null,
   "metadata": {
    "slideshow": {
     "slide_type": "fragment"
    }
   },
   "outputs": [],
   "source": [
    "pd.to_datetime(['2018-01-05', '7/8/1952', 'Oct 10, 1995'])"
   ]
  },
  {
   "cell_type": "markdown",
   "metadata": {
    "deletable": false,
    "editable": false,
    "nbgrader": {
     "cell_type": "markdown",
     "checksum": "063914e72ad4f8816773b8783e62b23e",
     "grade": false,
     "grade_id": "cell-f793da7e2fcc640b",
     "locked": true,
     "schema_version": 3,
     "solution": false,
     "task": false
    },
    "slideshow": {
     "slide_type": "subslide"
    }
   },
   "source": [
    "If we pass a number of strings in the same date/time format, we can explicitly specify it with the ``format`` parameter. This can significantly speed up the performance for very large datasets."
   ]
  },
  {
   "cell_type": "code",
   "execution_count": null,
   "metadata": {
    "slideshow": {
     "slide_type": "fragment"
    }
   },
   "outputs": [],
   "source": [
    "pd.to_datetime(['2/25/10', '8/6/17', '12/15/12'], format='%m/%d/%y')"
   ]
  },
  {
   "cell_type": "code",
   "execution_count": null,
   "metadata": {
    "slideshow": {
     "slide_type": "fragment"
    }
   },
   "outputs": [],
   "source": [
    "pd.to_datetime(['2/25/2010', '8/6/2017', '12/15/2012'], format='%m/%d/%Y')"
   ]
  },
  {
   "cell_type": "markdown",
   "metadata": {
    "deletable": false,
    "editable": false,
    "nbgrader": {
     "cell_type": "markdown",
     "checksum": "c60b9d0bdce3c671c526a681aaa02a54",
     "grade": false,
     "grade_id": "cell-a056e6836d5be879",
     "locked": true,
     "schema_version": 3,
     "solution": false,
     "task": false
    },
    "slideshow": {
     "slide_type": "slide"
    }
   },
   "source": [
    "## Creating a TimeSeries DataFrame\n",
    "Daily Open Power System Data from Germany inlcuding data about electricity consumption, wind power production and solar power production for 2006-2017, everything in GWh. The data is from [this tutorial](https://github.com/Open-Power-System-Data/time_series).\n",
    "\n",
    "First, read the data into `df` and display the head. The data can be found [here](https://raw.githubusercontent.com/ADSLab-Salzburg/DataAnalysiswithPython/main/data/opsd_germany_daily.csv)."
   ]
  },
  {
   "cell_type": "code",
   "execution_count": null,
   "metadata": {
    "deletable": false,
    "nbgrader": {
     "cell_type": "code",
     "checksum": "29a1cd811b659534474a2ef104dd9ba1",
     "grade": false,
     "grade_id": "cell-087c9912f32256c7",
     "locked": false,
     "schema_version": 3,
     "solution": true,
     "task": false
    },
    "slideshow": {
     "slide_type": "subslide"
    }
   },
   "outputs": [],
   "source": [
    "# YOUR CODE HERE\n",
    "raise NotImplementedError()"
   ]
  },
  {
   "cell_type": "code",
   "execution_count": null,
   "metadata": {
    "deletable": false,
    "editable": false,
    "nbgrader": {
     "cell_type": "code",
     "checksum": "c08a532f52dadd9020984909014aee69",
     "grade": true,
     "grade_id": "cell-cf47f11b32e171c6",
     "locked": true,
     "points": 1,
     "schema_version": 3,
     "solution": false,
     "task": false
    }
   },
   "outputs": [],
   "source": [
    "# Ignore this cell - this is for automatic testing."
   ]
  },
  {
   "cell_type": "markdown",
   "metadata": {
    "deletable": false,
    "editable": false,
    "nbgrader": {
     "cell_type": "markdown",
     "checksum": "a2a92366df100fd01c0e941ad9c4d480",
     "grade": false,
     "grade_id": "cell-11811c2e1f28921f",
     "locked": true,
     "schema_version": 3,
     "solution": false,
     "task": false
    }
   },
   "source": [
    "Describe the data frame."
   ]
  },
  {
   "cell_type": "code",
   "execution_count": null,
   "metadata": {
    "deletable": false,
    "nbgrader": {
     "cell_type": "code",
     "checksum": "52eeb4a99b30b3268427663a0d9c8c97",
     "grade": true,
     "grade_id": "cell-46946645e88ec482",
     "locked": false,
     "points": 0,
     "schema_version": 3,
     "solution": true,
     "task": false
    },
    "slideshow": {
     "slide_type": "subslide"
    }
   },
   "outputs": [],
   "source": [
    "# YOUR CODE HERE\n",
    "raise NotImplementedError()"
   ]
  },
  {
   "cell_type": "markdown",
   "metadata": {
    "deletable": false,
    "editable": false,
    "nbgrader": {
     "cell_type": "markdown",
     "checksum": "028cbf335d4cdd3c1e45d31bc9921bee",
     "grade": false,
     "grade_id": "cell-0f0eaf45b95d5fbd",
     "locked": true,
     "schema_version": 3,
     "solution": false,
     "task": false
    }
   },
   "source": [
    "Show the datatypes that are used in each column. Which datatype is not very easy useable for our usecase?"
   ]
  },
  {
   "cell_type": "code",
   "execution_count": null,
   "metadata": {
    "deletable": false,
    "nbgrader": {
     "cell_type": "code",
     "checksum": "8e2bebeb3edbef0ee3cf133b397d52e0",
     "grade": true,
     "grade_id": "cell-aa3394a732911811",
     "locked": false,
     "points": 0,
     "schema_version": 3,
     "solution": true,
     "task": false
    },
    "slideshow": {
     "slide_type": "subslide"
    }
   },
   "outputs": [],
   "source": [
    "# YOUR CODE HERE\n",
    "raise NotImplementedError()"
   ]
  },
  {
   "cell_type": "markdown",
   "metadata": {
    "deletable": false,
    "editable": false,
    "nbgrader": {
     "cell_type": "markdown",
     "checksum": "3482b976f058834c79239c25034a62cd",
     "grade": false,
     "grade_id": "cell-d59ac06f94423c92",
     "locked": true,
     "schema_version": 3,
     "solution": false,
     "task": false
    }
   },
   "source": [
    "As you can see, the Date is of type _object_. But we want to use it as a _dateime64_ object. To convert it, have a look to the [pandas.to_datetime](https://pandas.pydata.org/pandas-docs/stable/reference/api/pandas.to_datetime.html) function. Print the retulting datatypes."
   ]
  },
  {
   "cell_type": "code",
   "execution_count": null,
   "metadata": {
    "deletable": false,
    "nbgrader": {
     "cell_type": "code",
     "checksum": "0bdb2c2b14e6ac11738465135263ca1e",
     "grade": false,
     "grade_id": "cell-3733ae681537a0d2",
     "locked": false,
     "schema_version": 3,
     "solution": true,
     "task": false
    },
    "slideshow": {
     "slide_type": "fragment"
    }
   },
   "outputs": [],
   "source": [
    "# YOUR CODE HERE\n",
    "raise NotImplementedError()"
   ]
  },
  {
   "cell_type": "code",
   "execution_count": null,
   "metadata": {
    "deletable": false,
    "editable": false,
    "nbgrader": {
     "cell_type": "code",
     "checksum": "0f23b7bb31e1f1cd07164ee86802f1c7",
     "grade": true,
     "grade_id": "cell-e389cff9358e6789",
     "locked": true,
     "points": 4,
     "schema_version": 3,
     "solution": false,
     "task": false
    }
   },
   "outputs": [],
   "source": [
    "# Ignore this cell - this is for automatic testing."
   ]
  },
  {
   "cell_type": "markdown",
   "metadata": {
    "deletable": false,
    "editable": false,
    "nbgrader": {
     "cell_type": "markdown",
     "checksum": "75dbff0a43312dd8d6453e6aaca133c4",
     "grade": false,
     "grade_id": "cell-4b3b7fe9d3865f6a",
     "locked": true,
     "schema_version": 3,
     "solution": false,
     "task": false
    }
   },
   "source": [
    "In the following, one of the dates (`one_day`) is taken. You can easily extract all attributes, like year, day, month, hour, etc. from this object. In our case, the time is not set, thus it is set to 00:00:00. Play around a bit."
   ]
  },
  {
   "cell_type": "code",
   "execution_count": null,
   "metadata": {
    "slideshow": {
     "slide_type": "subslide"
    }
   },
   "outputs": [],
   "source": [
    "one_day = df.iloc[0, 0]\n",
    "print(one_day)\n",
    "print(one_day.year)\n",
    "print(one_day.month)\n",
    "print(one_day.day)"
   ]
  },
  {
   "cell_type": "markdown",
   "metadata": {
    "deletable": false,
    "editable": false,
    "nbgrader": {
     "cell_type": "markdown",
     "checksum": "6260675175a8f0761dafa2d0b0562638",
     "grade": false,
     "grade_id": "cell-d3077479fb42044f",
     "locked": true,
     "schema_version": 3,
     "solution": false,
     "task": false
    },
    "slideshow": {
     "slide_type": "slide"
    }
   },
   "source": [
    "### Use Date  as Index\n",
    "Instead of using arbritary integer values as the index, try it with the date. The date is unique anyways. Print the head."
   ]
  },
  {
   "cell_type": "code",
   "execution_count": null,
   "metadata": {
    "deletable": false,
    "nbgrader": {
     "cell_type": "code",
     "checksum": "7a8402648c6b9f5997b784996ab0ccfe",
     "grade": false,
     "grade_id": "cell-b12bb91ade1bb235",
     "locked": false,
     "schema_version": 3,
     "solution": true,
     "task": false
    },
    "slideshow": {
     "slide_type": "subslide"
    }
   },
   "outputs": [],
   "source": [
    "# YOUR CODE HERE\n",
    "raise NotImplementedError()"
   ]
  },
  {
   "cell_type": "code",
   "execution_count": null,
   "metadata": {
    "deletable": false,
    "editable": false,
    "nbgrader": {
     "cell_type": "code",
     "checksum": "bb11749c92f6dc1931bb666767c80ea2",
     "grade": true,
     "grade_id": "cell-d9f09c56ea00425f",
     "locked": true,
     "points": 3,
     "schema_version": 3,
     "solution": false,
     "task": false
    }
   },
   "outputs": [],
   "source": [
    "# Ignore this cell - this is for automatic testing."
   ]
  },
  {
   "cell_type": "markdown",
   "metadata": {
    "deletable": false,
    "editable": false,
    "nbgrader": {
     "cell_type": "markdown",
     "checksum": "c7f82cd880a4c7098f2d85a4f55712be",
     "grade": false,
     "grade_id": "cell-aa2e2924dcdeae9e",
     "locked": true,
     "schema_version": 3,
     "solution": false,
     "task": false
    },
    "slideshow": {
     "slide_type": "subslide"
    }
   },
   "source": [
    "### Adding New Columns\n",
    "Add new columns named _Year_, _Month_ (Name, Jan-Dec), and _Weekday_ (Mo-So) and fill it with the corresponding values from the index. For further functionality of the the DateTime class have a look in the [API docs](https://pandas.pydata.org/pandas-docs/stable/reference/api/pandas.DatetimeIndex.html).\n",
    "\n",
    "Print the head."
   ]
  },
  {
   "cell_type": "code",
   "execution_count": null,
   "metadata": {
    "deletable": false,
    "nbgrader": {
     "cell_type": "code",
     "checksum": "e88fd1721622a5dc9f306f9ddb18fd67",
     "grade": false,
     "grade_id": "cell-654ca818c44d34af",
     "locked": false,
     "schema_version": 3,
     "solution": true,
     "task": false
    },
    "slideshow": {
     "slide_type": "subslide"
    }
   },
   "outputs": [],
   "source": [
    "# YOUR CODE HERE\n",
    "raise NotImplementedError()"
   ]
  },
  {
   "cell_type": "code",
   "execution_count": null,
   "metadata": {
    "deletable": false,
    "editable": false,
    "nbgrader": {
     "cell_type": "code",
     "checksum": "55fd9534c40f4fb72e0a293d24de0cf7",
     "grade": true,
     "grade_id": "cell-8589cd258c7d7199",
     "locked": true,
     "points": 4,
     "schema_version": 3,
     "solution": false,
     "task": false
    }
   },
   "outputs": [],
   "source": [
    "# Ignore this cell - this is for automatic testing."
   ]
  },
  {
   "cell_type": "markdown",
   "metadata": {
    "deletable": false,
    "editable": false,
    "nbgrader": {
     "cell_type": "markdown",
     "checksum": "fda1cb6773f93d7d5e734416ed4120c5",
     "grade": false,
     "grade_id": "cell-092878e5f7fcd052",
     "locked": true,
     "schema_version": 3,
     "solution": false,
     "task": false
    },
    "slideshow": {
     "slide_type": "subslide"
    }
   },
   "source": [
    "### Timebased Indexing\n",
    "For selecting a special date, just use `loc` with the date as a string. If a whole month shall be returned, ommit the day in the string. Play around a bit."
   ]
  },
  {
   "cell_type": "code",
   "execution_count": null,
   "metadata": {
    "slideshow": {
     "slide_type": "subslide"
    }
   },
   "outputs": [],
   "source": [
    "df.loc['2014-12-11']"
   ]
  },
  {
   "cell_type": "code",
   "execution_count": null,
   "metadata": {
    "slideshow": {
     "slide_type": "subslide"
    }
   },
   "outputs": [],
   "source": [
    "df.loc['2012-03']"
   ]
  },
  {
   "cell_type": "markdown",
   "metadata": {
    "deletable": false,
    "editable": false,
    "nbgrader": {
     "cell_type": "markdown",
     "checksum": "d37e6f2f31a06193c63472b972f2f281",
     "grade": false,
     "grade_id": "cell-0d403cf5de72ae11",
     "locked": true,
     "schema_version": 3,
     "solution": false,
     "task": false
    },
    "slideshow": {
     "slide_type": "slide"
    }
   },
   "source": [
    "## Let's plot something!\n",
    "In the following you can use the pandas plot functionality, and refine the plots using matplotlib (makes it easier).\n",
    "\n",
    "First, plot the `Consumptions`. Use a `figsize=(11,5)` and a `linewidth=.5`. Use axis labeling and a title."
   ]
  },
  {
   "cell_type": "code",
   "execution_count": null,
   "metadata": {
    "deletable": false,
    "nbgrader": {
     "cell_type": "code",
     "checksum": "47dc4490f59bb28c753fb544ae37f220",
     "grade": true,
     "grade_id": "cell-69ea656ac50e27d3",
     "locked": false,
     "points": 10,
     "schema_version": 3,
     "solution": true,
     "task": false
    },
    "slideshow": {
     "slide_type": "subslide"
    }
   },
   "outputs": [],
   "source": [
    "# YOUR CODE HERE\n",
    "raise NotImplementedError()"
   ]
  },
  {
   "cell_type": "markdown",
   "metadata": {
    "deletable": false,
    "editable": false,
    "nbgrader": {
     "cell_type": "markdown",
     "checksum": "541a7d9de95c041ad711ab5affe3a6f1",
     "grade": false,
     "grade_id": "cell-714db104b58f9df0",
     "locked": true,
     "schema_version": 3,
     "solution": false,
     "task": false
    }
   },
   "source": [
    "Hmm.. Here we do not see too much. Let's try a different styling. can we see a pattern (difference between weekdays and weekends)?\n",
    "\n",
    "Plot the same as before, but with a different `marker` and `linestyle=None`. See [the docs](https://matplotlib.org/3.3.3/api/_as_gen/matplotlib.pyplot.plot.html)."
   ]
  },
  {
   "cell_type": "code",
   "execution_count": null,
   "metadata": {
    "deletable": false,
    "nbgrader": {
     "cell_type": "code",
     "checksum": "99309e5bd3708db5e2fe1f3e45193b6b",
     "grade": true,
     "grade_id": "cell-3bb5524dcada03e8",
     "locked": false,
     "points": 8,
     "schema_version": 3,
     "solution": true,
     "task": false
    },
    "slideshow": {
     "slide_type": "subslide"
    }
   },
   "outputs": [],
   "source": [
    "# YOUR CODE HERE\n",
    "raise NotImplementedError()"
   ]
  },
  {
   "cell_type": "markdown",
   "metadata": {},
   "source": [
    "Now, you want to add two additional subplots for `Solar` and `Wind`. Again, use pandas to plot the data (same parameter as before). Adjust the `figsize` that one can see the data. For subplots with pandas, have a look [in the docs](https://pandas.pydata.org/pandas-docs/version/0.23.4/generated/pandas.DataFrame.plot.html).\n",
    "\n",
    "Don't forget about axis labeling!"
   ]
  },
  {
   "cell_type": "code",
   "execution_count": null,
   "metadata": {
    "deletable": false,
    "nbgrader": {
     "cell_type": "code",
     "checksum": "1e973852524d516dde19cadd55fa34af",
     "grade": true,
     "grade_id": "cell-ae81acaa2c109a78",
     "locked": false,
     "points": 8,
     "schema_version": 3,
     "solution": true,
     "task": false
    },
    "slideshow": {
     "slide_type": "subslide"
    }
   },
   "outputs": [],
   "source": [
    "# YOUR CODE HERE\n",
    "raise NotImplementedError()"
   ]
  },
  {
   "cell_type": "markdown",
   "metadata": {
    "deletable": false,
    "editable": false,
    "nbgrader": {
     "cell_type": "markdown",
     "checksum": "fa32bb69cce4cb0247851ea2ca5ad11a",
     "grade": false,
     "grade_id": "cell-c351cc4b1535bdfc",
     "locked": true,
     "schema_version": 3,
     "solution": false,
     "task": false
    },
    "slideshow": {
     "slide_type": "slide"
    }
   },
   "source": [
    "## Investigating Patterns\n",
    "... by looking at slices of the data or grouping information ...\n",
    "\n",
    "Plot the `Consumption` for one dedicated year."
   ]
  },
  {
   "cell_type": "code",
   "execution_count": null,
   "metadata": {
    "deletable": false,
    "nbgrader": {
     "cell_type": "code",
     "checksum": "830aa1928c9b57a358a3c7ce9eaa9ee9",
     "grade": true,
     "grade_id": "cell-ba00b330342e5941",
     "locked": false,
     "points": 6,
     "schema_version": 3,
     "solution": true,
     "task": false
    },
    "slideshow": {
     "slide_type": "subslide"
    }
   },
   "outputs": [],
   "source": [
    "# YOUR CODE HERE\n",
    "raise NotImplementedError()"
   ]
  },
  {
   "cell_type": "markdown",
   "metadata": {
    "deletable": false,
    "editable": false,
    "nbgrader": {
     "cell_type": "markdown",
     "checksum": "3af06937f86083c9a440121bb5efa003",
     "grade": false,
     "grade_id": "cell-fa4873666fce9fc0",
     "locked": true,
     "schema_version": 3,
     "solution": false,
     "task": false
    }
   },
   "source": [
    "Let's try to group the data (e.g. monthly). You know an appropriate visualization for that!"
   ]
  },
  {
   "cell_type": "code",
   "execution_count": null,
   "metadata": {
    "deletable": false,
    "nbgrader": {
     "cell_type": "code",
     "checksum": "25c8f6106c0bdd158a675823bf62dc39",
     "grade": true,
     "grade_id": "cell-58bc389fd3709a24",
     "locked": false,
     "points": 7,
     "schema_version": 3,
     "solution": true,
     "task": false
    },
    "slideshow": {
     "slide_type": "subslide"
    }
   },
   "outputs": [],
   "source": [
    "# YOUR CODE HERE\n",
    "raise NotImplementedError()"
   ]
  },
  {
   "cell_type": "markdown",
   "metadata": {
    "deletable": false,
    "editable": false,
    "nbgrader": {
     "cell_type": "markdown",
     "checksum": "047e0d577cbf29d4ce2d511868d894d9",
     "grade": false,
     "grade_id": "cell-5370cecb63ce6dfd",
     "locked": true,
     "schema_version": 3,
     "solution": false,
     "task": false
    },
    "slideshow": {
     "slide_type": "slide"
    }
   },
   "source": [
    "## Comparing Consumption and Production\n",
    "### Resampling the Data\n",
    "For further analyisis, a daily view is maybe not optimal. Let's resample our data to a monthly view (sum of data in a month).\n",
    "\n",
    "Create a new data frame with the columns `'Consumption', 'Wind', 'Solar', 'Wind+Solar'`. \n",
    "Use [resample](https://pandas.pydata.org/pandas-docs/stable/reference/api/pandas.DataFrame.resample.html) on that data to resample it on a monthly view and use [sum](https://pandas.pydata.org/pandas-docs/stable/reference/api/pandas.core.resample.Resampler.sum.html?highlight=sum#pandas.core.resample.Resampler.sum) on that resampled data to compute the monthly grouped sum.\n",
    "\n",
    "Print the tail."
   ]
  },
  {
   "cell_type": "code",
   "execution_count": null,
   "metadata": {
    "deletable": false,
    "nbgrader": {
     "cell_type": "code",
     "checksum": "b3394cb00189c850f065b2d8d798f973",
     "grade": true,
     "grade_id": "cell-2ea8fa1102276c64",
     "locked": false,
     "points": 12,
     "schema_version": 3,
     "solution": true,
     "task": false
    },
    "slideshow": {
     "slide_type": "subslide"
    }
   },
   "outputs": [],
   "source": [
    "# YOUR CODE HERE\n",
    "raise NotImplementedError()"
   ]
  },
  {
   "cell_type": "markdown",
   "metadata": {
    "deletable": false,
    "editable": false,
    "nbgrader": {
     "cell_type": "markdown",
     "checksum": "67a0faec720f0cc1dd65db025b47e1b1",
     "grade": false,
     "grade_id": "cell-ceda6955e2219656",
     "locked": true,
     "schema_version": 3,
     "solution": false,
     "task": false
    }
   },
   "source": [
    "Plot `'Consumption', 'Wind', 'Solar'` in one plot. Use different colors and different styles. Use a legend and don't forget about axis labeling."
   ]
  },
  {
   "cell_type": "code",
   "execution_count": null,
   "metadata": {
    "deletable": false,
    "nbgrader": {
     "cell_type": "code",
     "checksum": "f05e4c5f1ff739814ad8fb5cd8534db0",
     "grade": true,
     "grade_id": "cell-b8cd7216e28e6302",
     "locked": false,
     "points": 12,
     "schema_version": 3,
     "solution": true,
     "task": false
    },
    "slideshow": {
     "slide_type": "subslide"
    }
   },
   "outputs": [],
   "source": [
    "# YOUR CODE HERE\n",
    "raise NotImplementedError()"
   ]
  },
  {
   "cell_type": "markdown",
   "metadata": {
    "deletable": false,
    "editable": false,
    "nbgrader": {
     "cell_type": "markdown",
     "checksum": "be7e9c00db81353c2f8e2dd72ef94e21",
     "grade": false,
     "grade_id": "cell-56310d1f6f5cdb60",
     "locked": true,
     "schema_version": 3,
     "solution": false,
     "task": false
    },
    "slideshow": {
     "slide_type": "slide"
    }
   },
   "source": [
    "## Use Your Own Data\n",
    "Go to [Wiki Pageviews](https://tools.wmflabs.org/pageviews/) and download a dataset of the pageviews of a Wikipedia page of your choice. \n",
    "- Enter the page name(s).\n",
    "- Click into the Dates field and choose \"All time\".\n",
    "- Download the .csv file.\n",
    "\n",
    "Next, load the data into a pandas ``DataFrame``:\n",
    "- Change the index to a ``DateTimeIndex``.\n",
    "- Inspect the dataset (missing values?)\n",
    "- Add additional columns (Weekday, Month)\n",
    "- Try to find patterns:\n",
    "  - selecting just one year/month\n",
    "  - grouping monthly/weekly\n",
    "\n",
    "Finally, for the submission, show at least one plot with a weekly aggregate of numbers."
   ]
  },
  {
   "cell_type": "code",
   "execution_count": null,
   "metadata": {
    "deletable": false,
    "nbgrader": {
     "cell_type": "code",
     "checksum": "623389dd23bd5824ae2a423d6c3bb6ec",
     "grade": true,
     "grade_id": "cell-b1476ac99b2d5d32",
     "locked": false,
     "points": 25,
     "schema_version": 3,
     "solution": true,
     "task": false
    },
    "slideshow": {
     "slide_type": "skip"
    }
   },
   "outputs": [],
   "source": [
    "# YOUR CODE HERE\n",
    "raise NotImplementedError()"
   ]
  },
  {
   "cell_type": "markdown",
   "metadata": {
    "deletable": false,
    "editable": false,
    "nbgrader": {
     "cell_type": "markdown",
     "checksum": "74d4299c166bfe227de224647851eb5b",
     "grade": false,
     "grade_id": "cell-e3e3dd8ec036d20d",
     "locked": true,
     "schema_version": 3,
     "solution": false,
     "task": false
    },
    "slideshow": {
     "slide_type": "skip"
    }
   },
   "source": [
    "### Inspiration/Further Reading\n",
    "- [Time Series Analysis with Pandas (Tutorial)](https://www.dataquest.io/blog/tutorial-time-series-analysis-with-pandas/)\n",
    "- [Working with Time Series in Python (Tutorial)](https://jakevdp.github.io/PythonDataScienceHandbook/03.11-working-with-time-series.html)"
   ]
  }
 ],
 "metadata": {
  "kernelspec": {
   "display_name": "Python 3 (ipykernel)",
   "language": "python",
   "name": "python3"
  },
  "language_info": {
   "codemirror_mode": {
    "name": "ipython",
    "version": 3
   },
   "file_extension": ".py",
   "mimetype": "text/x-python",
   "name": "python",
   "nbconvert_exporter": "python",
   "pygments_lexer": "ipython3",
   "version": "3.9.7"
  }
 },
 "nbformat": 4,
 "nbformat_minor": 2
}
