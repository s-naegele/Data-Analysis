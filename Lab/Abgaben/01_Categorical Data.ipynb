{
 "cells": [
  {
   "cell_type": "markdown",
   "metadata": {
    "deletable": false,
    "editable": false,
    "nbgrader": {
     "cell_type": "markdown",
     "checksum": "93967958a2aea197eb1b1cb73a13dca8",
     "grade": false,
     "grade_id": "cell-623b9e7107b6019a",
     "locked": true,
     "schema_version": 3,
     "solution": false,
     "task": false
    },
    "slideshow": {
     "slide_type": "slide"
    }
   },
   "source": [
    "# Lab 1: Categorical Data\n",
    "[![https://imgs.xkcd.com/comics/salvage.png](https://imgs.xkcd.com/comics/salvage.png)](https://imgs.xkcd.com/comics/salvage.png)\n",
    "\n",
    "We know who was on the titanic the day it sank and we know who survived. Your taks today is to analyze the public available data to find more about the people."
   ]
  },
  {
   "cell_type": "code",
   "execution_count": null,
   "metadata": {
    "deletable": false,
    "editable": false,
    "nbgrader": {
     "cell_type": "code",
     "checksum": "c05b44ec63b9e030d604ee33ca1604aa",
     "grade": false,
     "grade_id": "cell-4dc8ebf3ab7f4c4e",
     "locked": true,
     "schema_version": 3,
     "solution": false,
     "task": false
    },
    "slideshow": {
     "slide_type": "skip"
    }
   },
   "outputs": [],
   "source": [
    "import pip\n",
    "!pip install numpy matplotlib pandas\n",
    "!pip install plotly==4.12.0"
   ]
  },
  {
   "cell_type": "markdown",
   "metadata": {
    "deletable": false,
    "editable": false,
    "nbgrader": {
     "cell_type": "markdown",
     "checksum": "0db221b99c5b664554ba096346acbd37",
     "grade": false,
     "grade_id": "cell-0ae7ce690f61256b",
     "locked": true,
     "schema_version": 3,
     "solution": false,
     "task": false
    },
    "slideshow": {
     "slide_type": "slide"
    }
   },
   "source": [
    "## TASK 1\n",
    "\n",
    "Use Python to answer the following questions. Use the print command to present your answer in a full sentence.\n",
    "\n",
    "### 1. First, load the data set\n",
    "The data set is named `titanic.csv`. Print the head of the data set."
   ]
  },
  {
   "cell_type": "code",
   "execution_count": null,
   "metadata": {
    "deletable": false,
    "nbgrader": {
     "cell_type": "code",
     "checksum": "b01fc3e9fdf1c4c2dcc447835b0f5d99",
     "grade": true,
     "grade_id": "cell-a9bd102ce46efb5c",
     "locked": false,
     "points": 0,
     "schema_version": 3,
     "solution": true,
     "task": false
    },
    "slideshow": {
     "slide_type": "skip"
    }
   },
   "outputs": [],
   "source": [
    "# YOUR CODE HERE\n",
    "import pandas as pd\n",
    "\n",
    "data = pd.read_csv('titanic.csv')\n",
    "print(f\"The head of the dataset titanic.csv is:\" )\n",
    "data.head()"
   ]
  },
  {
   "cell_type": "markdown",
   "metadata": {
    "deletable": false,
    "editable": false,
    "nbgrader": {
     "cell_type": "markdown",
     "checksum": "7b242f3ea2c3cd8c6acde5c8890beeca",
     "grade": false,
     "grade_id": "cell-200388573c5bc6f8",
     "locked": true,
     "schema_version": 3,
     "solution": false,
     "task": false
    },
    "slideshow": {
     "slide_type": "subslide"
    }
   },
   "source": [
    "### 2. How many passengers have embarked in Southampton?"
   ]
  },
  {
   "cell_type": "code",
   "execution_count": null,
   "metadata": {
    "deletable": false,
    "nbgrader": {
     "cell_type": "code",
     "checksum": "67502147c89caec6b6e1909a0987ce5e",
     "grade": true,
     "grade_id": "cell-4b9fc8b3eab9b1cd",
     "locked": false,
     "points": 0,
     "schema_version": 3,
     "solution": true,
     "task": false
    },
    "slideshow": {
     "slide_type": "skip"
    }
   },
   "outputs": [],
   "source": [
    "# YOUR CODE HERE\n",
    "data['S' == data.Embarked].shape"
   ]
  },
  {
   "cell_type": "markdown",
   "metadata": {
    "deletable": false,
    "editable": false,
    "nbgrader": {
     "cell_type": "markdown",
     "checksum": "fb3d26f30b37561558ea60758f9aa32c",
     "grade": false,
     "grade_id": "cell-e5b701592249937c",
     "locked": true,
     "schema_version": 3,
     "solution": false,
     "task": false
    },
    "slideshow": {
     "slide_type": "subslide"
    }
   },
   "source": [
    "### 3. Who has paid most for his/her ticket? Find out the name of this passenger."
   ]
  },
  {
   "cell_type": "code",
   "execution_count": null,
   "metadata": {
    "deletable": false,
    "nbgrader": {
     "cell_type": "code",
     "checksum": "2b0d036c59335966708d99cf453d0423",
     "grade": true,
     "grade_id": "cell-c0fd9eafda92fc30",
     "locked": false,
     "points": 0,
     "schema_version": 3,
     "solution": true,
     "task": false
    },
    "slideshow": {
     "slide_type": "skip"
    }
   },
   "outputs": [],
   "source": [
    "# YOUR CODE HERE\n",
    "data[data['Fare'].max() == data[\"Fare\"]]"
   ]
  },
  {
   "cell_type": "markdown",
   "metadata": {
    "deletable": false,
    "editable": false,
    "nbgrader": {
     "cell_type": "markdown",
     "checksum": "34b4fe9cca5286780ca0cd8f6eb84855",
     "grade": false,
     "grade_id": "cell-d5801de051ef1f85",
     "locked": true,
     "schema_version": 3,
     "solution": false,
     "task": false
    },
    "slideshow": {
     "slide_type": "subslide"
    }
   },
   "source": [
    "### 4. Who was the youngest passenger? Find out his/her name and age."
   ]
  },
  {
   "cell_type": "code",
   "execution_count": null,
   "metadata": {
    "deletable": false,
    "nbgrader": {
     "cell_type": "code",
     "checksum": "889447bffd256d3d9e8acc3a0609faa8",
     "grade": true,
     "grade_id": "cell-40df9b47ab7fe359",
     "locked": false,
     "points": 0,
     "schema_version": 3,
     "solution": true,
     "task": false
    },
    "slideshow": {
     "slide_type": "skip"
    }
   },
   "outputs": [],
   "source": [
    "# YOUR CODE HERE\n",
    "data[data['Age'].min() == data['Age']]"
   ]
  },
  {
   "cell_type": "markdown",
   "metadata": {
    "deletable": false,
    "editable": false,
    "nbgrader": {
     "cell_type": "markdown",
     "checksum": "64f41c3ee5dabed0b50135458ebd60cf",
     "grade": false,
     "grade_id": "cell-7f838a1f0b2c050a",
     "locked": true,
     "schema_version": 3,
     "solution": false,
     "task": false
    },
    "slideshow": {
     "slide_type": "subslide"
    }
   },
   "source": [
    "### 5. Who was the oldest passenger who did not survive? Find out his/her name and age."
   ]
  },
  {
   "cell_type": "code",
   "execution_count": null,
   "metadata": {
    "deletable": false,
    "nbgrader": {
     "cell_type": "code",
     "checksum": "100923018a3267c8d0d104888a7608b5",
     "grade": true,
     "grade_id": "cell-1e0e798b712330c9",
     "locked": false,
     "points": 0,
     "schema_version": 3,
     "solution": true,
     "task": false
    },
    "slideshow": {
     "slide_type": "skip"
    }
   },
   "outputs": [],
   "source": [
    "# YOUR CODE HERE\n",
    "data.loc[data.Survived == 0].loc[data.Age.max()].head()"
   ]
  },
  {
   "cell_type": "markdown",
   "metadata": {
    "deletable": false,
    "editable": false,
    "nbgrader": {
     "cell_type": "markdown",
     "checksum": "d956d96cadb29949942d541210286b64",
     "grade": false,
     "grade_id": "cell-8a8618ed1df59124",
     "locked": true,
     "schema_version": 3,
     "solution": false,
     "task": false
    },
    "slideshow": {
     "slide_type": "slide"
    }
   },
   "source": [
    "## TASK 2\n",
    "\n",
    "Use Python's plotting libraries to visualize the following insights.\n",
    "\n",
    "Remember that each plot has a **title**, **axis labels** and a **legend**.\n",
    "\n",
    "### 1. Grouped bar plot showing how many passengers died/survived for each passenger class"
   ]
  },
  {
   "cell_type": "code",
   "execution_count": null,
   "metadata": {
    "deletable": false,
    "nbgrader": {
     "cell_type": "code",
     "checksum": "acddb1da6aca75b0d37f4adf73353530",
     "grade": true,
     "grade_id": "cell-9b4c128b0abea839",
     "locked": false,
     "points": 0,
     "schema_version": 3,
     "solution": true,
     "task": false
    },
    "slideshow": {
     "slide_type": "skip"
    }
   },
   "outputs": [],
   "source": [
    "import matplotlib.pyplot as plt\n",
    "import seaborn as sns\n",
    "\n",
    "firstS =len( data.loc[data.Survived == 1].loc[data.Pclass == 1])\n",
    "firstD = len(data.loc[data.Survived == 0].loc[data.Pclass == 1])\n",
    "secondS =len(data.loc[data.Survived == 1].loc[data.Pclass == 2])\n",
    "secondD = len(data.loc[data.Survived == 0].loc[data.Pclass == 2])\n",
    "thirdS =len(data.loc[data.Survived == 1].loc[data.Pclass == 3])\n",
    "thirdD = len(data.loc[data.Survived == 0].loc[data.Pclass == 3])\n",
    "\n",
    "\n",
    "df = pd.DataFrame([['Survived', '1', firstS],['Survived','2', secondS], ['Survived','3', thirdS], ['Died', '1', firstD],['Died','2', secondD], ['Died','3', thirdD]],columns=['Outcome', 'Booked Class', 'amount'])\n",
    "\n",
    "df.head()\n",
    "\n",
    "sns.barplot(data=df, x='Booked Class', y='amount', hue='Outcome')\n",
    "\n",
    "plt.title('Survivel outcome for each typ of class')\n"
   ]
  },
  {
   "cell_type": "markdown",
   "metadata": {
    "deletable": false,
    "editable": false,
    "nbgrader": {
     "cell_type": "markdown",
     "checksum": "81fbbeff3350eeba1342d4e28f01ef9a",
     "grade": false,
     "grade_id": "cell-04f9d0eada0c963f",
     "locked": true,
     "schema_version": 3,
     "solution": false,
     "task": false
    },
    "slideshow": {
     "slide_type": "subslide"
    }
   },
   "source": [
    "### 2. Sankey diagram\n",
    "[Sankey diagrams](https://plot.ly/python/sankey-diagram/) are flow diagrams that visualize the flow from one category to another. Sankey diagarams are advanced plots that are avaible, for instance, in the [plotly framework](https://plot.ly/python/) that supports interactive graphs. \n",
    "\n",
    "Use a Sankey diagram to visualize how many passengers from each embarking location survived/did not survive.\n",
    "\n",
    "![Example Sankey Diagram](https://plot.ly/~PythonPlotBot/2588/basic-sankey-diagram.png)\n",
    "\n",
    "First of, prepare the data in such a way, that it can be visualized later on. For help on that, please be refered to the [official docs](https://plotly.com/python/sankey-diagram/#hovertemplate-and-customdata-of-sankey-diagrams). Important to know is, that you need to define for each _stream_ a `source`, `target` and `value`. The `source` is the embarking location, the `target` if survived or not and the `value` the number of people who died or survived."
   ]
  },
  {
   "cell_type": "code",
   "execution_count": null,
   "metadata": {
    "deletable": false,
    "nbgrader": {
     "cell_type": "code",
     "checksum": "2bc4cc0d40f3a0ccda8bd14b265178d4",
     "grade": true,
     "grade_id": "cell-2a96c8fe867115d7",
     "locked": false,
     "points": 0,
     "schema_version": 3,
     "solution": true,
     "task": false
    },
    "slideshow": {
     "slide_type": "skip"
    }
   },
   "outputs": [],
   "source": [
    "# Imports only needed if not imported above\n",
    "#import pandas as pd\n",
    "#import numpy as np\n",
    "\n",
    "#Read Titanic data. Only neede if not already done above\n",
    "#data = pd.read_csv('titanic.csv')\n",
    "\n",
    "#Checked if Embarked or Survival has Nan\n",
    "len(data.loc[data.Survived.isna()])\n",
    "len(data.loc[data.Embarked.isna()])\n",
    "\n",
    "\n",
    "survivedSouthampton =len( data.loc[data.Survived == 1].loc[data.Embarked == \"S\"])\n",
    "diedSouthampton = len(data.loc[data.Survived == 0].loc[data.Embarked == \"S\"])\n",
    "survivedCherbourg =len(data.loc[data.Survived == 1].loc[data.Embarked == \"C\"])\n",
    "diedCherbourg = len(data.loc[data.Survived == 0].loc[data.Embarked   == \"C\"])\n",
    "survivedQueenstown =len(data.loc[data.Survived == 1].loc[data.Embarked == \"Q\"])\n",
    "diedQueenstown = len(data.loc[data.Survived == 0].loc[data.Embarked == \"Q\"])\n",
    "survivedNan = len(data.loc[data.Survived == 1].loc[data.Embarked.isna()])\n",
    "diedNan =  len(data.loc[data.Survived == 0].loc[data.Embarked.isna()])\n",
    "\n",
    "\n",
    "df = pd.DataFrame([['Southampton', 'Survived', survivedSouthampton,\"Embarked Southampton and survived\" ],['Southampton','Died', diedSouthampton,\"Embarked Southampton and died\"], \n",
    "['Cherbourg','Survived', survivedCherbourg,\"Embarked Cherbourg and survived\"], ['Cherbourg', 'Died', diedCherbourg,\"Embarked Cherbourg and died\"],\n",
    "['Queenstown','Survived', survivedQueenstown,\"Embarked Queenstown and survived\"], ['Queenstown','Died', diedQueenstown,\"Embarked Queenstown and died\"],\n",
    "['NaN','Survied', survivedNan,\"Embark unknown and survived\"],['NaN','Died', diedNan,\"Embark unknown and died\"]], columns=['Source', 'Target', 'value', 'lable'])\n",
    "\n",
    "df.head()"
   ]
  },
  {
   "cell_type": "markdown",
   "metadata": {
    "deletable": false,
    "editable": false,
    "nbgrader": {
     "cell_type": "markdown",
     "checksum": "36541b2b160d71dc8a7d0bf378a7eda7",
     "grade": false,
     "grade_id": "cell-af1dea35bd507473",
     "locked": true,
     "schema_version": 3,
     "solution": false,
     "task": false
    },
    "slideshow": {
     "slide_type": "fragment"
    }
   },
   "source": [
    "After seperating those numbers and preprocessing those, use them to plot the Sanky diagram."
   ]
  },
  {
   "cell_type": "code",
   "execution_count": null,
   "metadata": {
    "deletable": false,
    "nbgrader": {
     "cell_type": "code",
     "checksum": "b46cc5a4c5ffaa4162d5733ec6873078",
     "grade": true,
     "grade_id": "cell-0651ea142077b1b7",
     "locked": false,
     "points": 0,
     "schema_version": 3,
     "solution": true,
     "task": false
    },
    "slideshow": {
     "slide_type": "skip"
    }
   },
   "outputs": [],
   "source": [
    "import plotly.graph_objects as go\n",
    "\n",
    "\n",
    "fig = go.Figure(data = [go.Sankey(\n",
    "   node = dict(\n",
    "      pad = 15,\n",
    "      thickness = 20,\n",
    "      line = dict(color = \"black\", width = 0.8),\n",
    "      label = [df.Source[0],df.Source[2],df.Source[4], df.Source[6], df.Target[0],df.Target[1]],\n",
    "      color = [\"darkslateblue\",\"darkturquoise\",\"darksalmon\", \"burlywood\",\"limegreen\",\"crimson\"]\n",
    "   ),\n",
    "   link = dict(\n",
    "      source = [0, 0, 1,1,2,2,3,3 ], # indices correspond to labels, eg A1, A2, A1, B1, ...\n",
    "      target = [4, 5, 4,5,4,5,4,5],\n",
    "      value = [df.value[0],df.value[1],df.value[2],df.value[3],df.value[4],df.value[5],df.value[6],df.value[7]],\n",
    "      label = [df.lable[0],df.lable[1],df.lable[2],df.lable[3],df.lable[4],df.lable[5], df.lable[6],df.lable[7]],\n",
    "      color = ['#C8FFCF', '#FFB6B6', '#C8FFCF', '#FFB6B6','#C8FFCF', '#FFB6B6','#C8FFCF', '#FFB6B6']\n",
    "   ))])\n",
    "\n",
    "fig.update_layout(title_text = \"Where People enbarked and if they survived\", font_size = 12)\n",
    "fig.show()"
   ]
  },
  {
   "cell_type": "markdown",
   "metadata": {
    "deletable": false,
    "editable": false,
    "nbgrader": {
     "cell_type": "markdown",
     "checksum": "347cbc0d9bac557c844a5706985a8ad2",
     "grade": false,
     "grade_id": "cell-38ff79cbe2536e87",
     "locked": true,
     "schema_version": 3,
     "solution": false,
     "task": false
    },
    "slideshow": {
     "slide_type": "skip"
    }
   },
   "source": [
    "Now, you are done. Relax and submitt your solution to the eLearning system. Good work!"
   ]
  }
 ],
 "metadata": {
  "kernelspec": {
   "display_name": "Python 3",
   "language": "python",
   "name": "python3"
  },
  "language_info": {
   "codemirror_mode": {
    "name": "ipython",
    "version": 3
   },
   "file_extension": ".py",
   "mimetype": "text/x-python",
   "name": "python",
   "nbconvert_exporter": "python",
   "pygments_lexer": "ipython3",
   "version": "3.8.5"
  }
 },
 "nbformat": 4,
 "nbformat_minor": 2
}
