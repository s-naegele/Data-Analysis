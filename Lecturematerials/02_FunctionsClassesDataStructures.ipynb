{
 "cells": [
  {
   "cell_type": "markdown",
   "metadata": {
    "deletable": false,
    "editable": false,
    "nbgrader": {
     "cell_type": "markdown",
     "checksum": "b1fc7aae0aaeff4f5dcb8c8a903032e7",
     "grade": false,
     "grade_id": "cell-e7d6d5be47f277ad",
     "locked": true,
     "schema_version": 3,
     "solution": false,
     "task": false
    },
    "slideshow": {
     "slide_type": "slide"
    }
   },
   "source": [
    "# Functions, Classes and Data Structures"
   ]
  },
  {
   "cell_type": "markdown",
   "metadata": {
    "deletable": false,
    "editable": false,
    "nbgrader": {
     "cell_type": "markdown",
     "checksum": "c58cc88fd31ad5ccab999fc2f3bb9ca8",
     "grade": false,
     "grade_id": "cell-5b2598c531f4dfa9",
     "locked": true,
     "schema_version": 3,
     "solution": false,
     "task": false
    },
    "slideshow": {
     "slide_type": "skip"
    }
   },
   "source": [
    "## Table of Contents\n",
    "1. [Functions](#functions)\n",
    "1. [Classes](#classes)\n",
    "1. [Dictionaries](#dicts)\n",
    "1. [Sets](#sets)\n",
    "1. [List comprehension](#comprehension)\n",
    "1. [Exercise](#exercise)"
   ]
  },
  {
   "cell_type": "markdown",
   "metadata": {
    "deletable": false,
    "editable": false,
    "nbgrader": {
     "cell_type": "markdown",
     "checksum": "282063abf4dc28bf32dd286a4655e509",
     "grade": false,
     "grade_id": "cell-870ee96b945965af",
     "locked": true,
     "schema_version": 3,
     "solution": false,
     "task": false
    },
    "slideshow": {
     "slide_type": "slide"
    }
   },
   "source": [
    "<a name=\"functions\"></a>\n",
    "## Functions\n",
    "\n",
    "Functions in Python are defined using the block keyword ``def`` followed by the function's name. "
   ]
  },
  {
   "cell_type": "code",
   "execution_count": null,
   "metadata": {
    "slideshow": {
     "slide_type": "fragment"
    }
   },
   "outputs": [],
   "source": [
    "def greeting_function():\n",
    "    print(\"Greetings from this function.\")"
   ]
  },
  {
   "cell_type": "markdown",
   "metadata": {
    "deletable": false,
    "editable": false,
    "nbgrader": {
     "cell_type": "markdown",
     "checksum": "4190d9ca643ededa940d23ff99d595bb",
     "grade": false,
     "grade_id": "cell-8b567a0d56bf5058",
     "locked": true,
     "schema_version": 3,
     "solution": false,
     "task": false
    },
    "slideshow": {
     "slide_type": "subslide"
    }
   },
   "source": [
    "Naturally, Python functions can also take arguments and return values:"
   ]
  },
  {
   "cell_type": "code",
   "execution_count": null,
   "metadata": {
    "slideshow": {
     "slide_type": "fragment"
    }
   },
   "outputs": [],
   "source": [
    "def sum_two_numbers(a, b):\n",
    "    print(f'The sum of {a} + {b} is {a + b}.')\n",
    "    return a + b"
   ]
  },
  {
   "cell_type": "markdown",
   "metadata": {
    "deletable": false,
    "editable": false,
    "nbgrader": {
     "cell_type": "markdown",
     "checksum": "2fc99df1a30443e352c423fe820b4f70",
     "grade": false,
     "grade_id": "cell-bad2a110f4492a1c",
     "locked": true,
     "schema_version": 3,
     "solution": false,
     "task": false
    },
    "slideshow": {
     "slide_type": "subslide"
    }
   },
   "source": [
    "Now, let's call the functions"
   ]
  },
  {
   "cell_type": "code",
   "execution_count": null,
   "metadata": {
    "slideshow": {
     "slide_type": "fragment"
    }
   },
   "outputs": [],
   "source": [
    "greeting_function()\n",
    "result = sum_two_numbers(7,3)"
   ]
  },
  {
   "cell_type": "markdown",
   "metadata": {
    "deletable": false,
    "editable": false,
    "nbgrader": {
     "cell_type": "markdown",
     "checksum": "9311505c7192e9892f38c43987170452",
     "grade": false,
     "grade_id": "cell-f8c91cc11282a4c0",
     "locked": true,
     "schema_version": 3,
     "solution": false,
     "task": false
    },
    "slideshow": {
     "slide_type": "fragment"
    }
   },
   "source": [
    "Note that all Python functions return some value. The return value is ``None`` if the return statement is omitted or the statement is just ``return``. It is also possible to return multiple values."
   ]
  },
  {
   "cell_type": "markdown",
   "metadata": {
    "deletable": false,
    "editable": false,
    "nbgrader": {
     "cell_type": "markdown",
     "checksum": "40e38736268c69d5876fe2e7f1f8790c",
     "grade": false,
     "grade_id": "cell-78eacad5d3d07b81",
     "locked": true,
     "schema_version": 3,
     "solution": false,
     "task": false
    },
    "slideshow": {
     "slide_type": "subslide"
    }
   },
   "source": [
    "### Default Arguments\n",
    "Python allows function arguments to have default values. If the function is called without the argument, the argument gets its default value. The default value is assigned by using assignment operator ``=``."
   ]
  },
  {
   "cell_type": "code",
   "execution_count": null,
   "metadata": {
    "slideshow": {
     "slide_type": "fragment"
    }
   },
   "outputs": [],
   "source": [
    "def sum_two_numbers(a, b=5):\n",
    "    print(f'The sum of {a} + {b} is {a + b}.')\n",
    "    return a + b\n",
    "\n",
    "num_plus5 = sum_two_numbers(3)\n",
    "print(num_plus5)\n",
    "num_plus7 = sum_two_numbers(3, 7)\n",
    "print(num_plus7)"
   ]
  },
  {
   "cell_type": "markdown",
   "metadata": {
    "deletable": false,
    "editable": false,
    "nbgrader": {
     "cell_type": "markdown",
     "checksum": "78bf2a7a92b740361fddd6d9df399689",
     "grade": false,
     "grade_id": "cell-2d1baf7cb668c811",
     "locked": true,
     "schema_version": 3,
     "solution": false,
     "task": false
    },
    "slideshow": {
     "slide_type": "subslide"
    }
   },
   "source": [
    "When using more than one default argument, it adds to readability when including the argument name in the function call:"
   ]
  },
  {
   "cell_type": "code",
   "execution_count": null,
   "metadata": {
    "slideshow": {
     "slide_type": "fragment"
    }
   },
   "outputs": [],
   "source": [
    "def process_string(sentence, lowercase=False, split=False, strip=False):\n",
    "    if lowercase:\n",
    "        sentence = sentence.lower()\n",
    "    if strip:\n",
    "        sentence = sentence.strip()\n",
    "    if split:\n",
    "        sentence = sentence.split()\n",
    "    return sentence\n",
    "        \n",
    "process_string('   How Python handles multiple default arguments:    ', lowercase=True, strip=True)"
   ]
  },
  {
   "cell_type": "markdown",
   "metadata": {
    "deletable": false,
    "editable": false,
    "nbgrader": {
     "cell_type": "markdown",
     "checksum": "94f87e957ddf24c52c695cdc1fc0f3ad",
     "grade": false,
     "grade_id": "cell-8448db6a00465230",
     "locked": true,
     "schema_version": 3,
     "solution": false,
     "task": false
    },
    "slideshow": {
     "slide_type": "slide"
    }
   },
   "source": [
    "<a name=\"classes\"></a>\n",
    "## Classes\n",
    "![Cars - The Film](https://static.kino.de/wp-content/gallery/cars-2006/cars-1-rcm950x0.jpg)"
   ]
  },
  {
   "cell_type": "markdown",
   "metadata": {
    "deletable": false,
    "editable": false,
    "nbgrader": {
     "cell_type": "markdown",
     "checksum": "4a8477f97044656e85ce51b87b988a20",
     "grade": false,
     "grade_id": "cell-efb7f250c451afea",
     "locked": true,
     "schema_version": 3,
     "solution": false,
     "task": false
    },
    "slideshow": {
     "slide_type": "subslide"
    }
   },
   "source": [
    "Objects are an encapsulation of variables and functions into a single entity. Objects get their variables and functions from classes. Classes are essentially a template to create your objects."
   ]
  },
  {
   "cell_type": "markdown",
   "metadata": {
    "deletable": false,
    "editable": false,
    "nbgrader": {
     "cell_type": "markdown",
     "checksum": "f901b82bc83626b1c856c109cdd00d0b",
     "grade": false,
     "grade_id": "cell-63ddc70b9a4c79d5",
     "locked": true,
     "schema_version": 3,
     "solution": false,
     "task": false
    },
    "slideshow": {
     "slide_type": "subslide"
    }
   },
   "source": [
    "This is an example for a basic class named ``Car`` with four class variables and a class function (= method). The last line instantiates a variable ``mcqueen`` that holds an object of type ``Car``:"
   ]
  },
  {
   "cell_type": "code",
   "execution_count": null,
   "metadata": {
    "slideshow": {
     "slide_type": "fragment"
    }
   },
   "outputs": [],
   "source": [
    "class Car:\n",
    "    name = \"\"\n",
    "    kind = \"\"\n",
    "    color = \"\"\n",
    "    value = 100000.00\n",
    "    \n",
    "    def description(self):\n",
    "        description_str = f\"{self.name} is a {self.color} {self.kind} worth {self.value:.2f} €.\"\n",
    "        return description_str\n",
    "    \n",
    "mcqueen = Car()"
   ]
  },
  {
   "cell_type": "markdown",
   "metadata": {
    "deletable": false,
    "editable": false,
    "nbgrader": {
     "cell_type": "markdown",
     "checksum": "e53424505bcc2faaa4134109267b28b7",
     "grade": false,
     "grade_id": "cell-ca86b6a0edf44845",
     "locked": true,
     "schema_version": 3,
     "solution": false,
     "task": false
    },
    "slideshow": {
     "slide_type": "subslide"
    }
   },
   "source": [
    "Set the values of variable ``mcqueen`` and call the object's function:"
   ]
  },
  {
   "cell_type": "code",
   "execution_count": null,
   "metadata": {
    "slideshow": {
     "slide_type": "fragment"
    }
   },
   "outputs": [],
   "source": [
    "mcqueen.name = \"Lightning McQueen\"\n",
    "mcqueen.color = \"red\"\n",
    "mcqueen.kind = \"Corvette\"\n",
    "\n",
    "mcqueen_descr = mcqueen.description()\n",
    "print(mcqueen_descr)"
   ]
  },
  {
   "cell_type": "markdown",
   "metadata": {
    "deletable": false,
    "editable": false,
    "nbgrader": {
     "cell_type": "markdown",
     "checksum": "b7c88a4ff65e36c139336a114422bb63",
     "grade": false,
     "grade_id": "cell-4e403c8af08a700c",
     "locked": true,
     "schema_version": 3,
     "solution": false,
     "task": false
    },
    "slideshow": {
     "slide_type": "subslide"
    }
   },
   "source": [
    "### `__init__()`\n",
    "\n",
    "The example above is a class and object in their simplest form as they are rarely used in real life applications. All Python classes have a built-in method called ``__init__()``, which is always executed automatically when the class is being initiated. The ``__init__()`` method is used to assign values to object properties, or other operations that are necessary to do when the object is being created:"
   ]
  },
  {
   "cell_type": "code",
   "execution_count": null,
   "metadata": {
    "slideshow": {
     "slide_type": "subslide"
    }
   },
   "outputs": [],
   "source": [
    "class Car:\n",
    "    def __init__(self, name, kind, color):\n",
    "        self.name = name\n",
    "        self.kind = kind\n",
    "        self.color = color\n",
    "        self.value = 100000.00\n",
    "    \n",
    "    def description(self):\n",
    "        description_str = f\"{self.name} is a {self.color} {self.kind} worth {self.value:.2f} €.\"\n",
    "        return description_str\n",
    "    \n",
    "mcqueen = Car('Lightning McQueen', 'Corvette', 'red')\n",
    "print(mcqueen.description())\n",
    "print(mcqueen.name)"
   ]
  },
  {
   "cell_type": "markdown",
   "metadata": {
    "deletable": false,
    "editable": false,
    "nbgrader": {
     "cell_type": "markdown",
     "checksum": "fede639d53ebfa2be57c677dec48ad30",
     "grade": false,
     "grade_id": "cell-442d08de7c5b66d8",
     "locked": true,
     "schema_version": 3,
     "solution": false,
     "task": false
    },
    "slideshow": {
     "slide_type": "subslide"
    }
   },
   "source": [
    "### The self Parameter\n",
    "The ``self`` parameter is a reference to the current instance of the class. It is used to access variables that belong to the class.\n",
    "\n",
    "It does not have to be named ``self``, but it has to be the first parameter of any function in the class."
   ]
  },
  {
   "cell_type": "markdown",
   "metadata": {
    "deletable": false,
    "editable": false,
    "nbgrader": {
     "cell_type": "markdown",
     "checksum": "3bff27d05a6e2cd7a72cd65a44afd279",
     "grade": false,
     "grade_id": "cell-9b35345ee65886b7",
     "locked": true,
     "schema_version": 3,
     "solution": false,
     "task": false
    },
    "slideshow": {
     "slide_type": "subslide"
    }
   },
   "source": [
    "### Other special method names \n",
    "\n",
    "Apart from `__init__`, there are other reserved special names as well, like `__del__` and `__doc__`. See the [Python Docs](https://docs.python.org/3/reference/datamodel.html#basic-customization) for more information."
   ]
  },
  {
   "cell_type": "markdown",
   "metadata": {
    "deletable": false,
    "editable": false,
    "nbgrader": {
     "cell_type": "markdown",
     "checksum": "44694afd34b6938789421432abad8cf0",
     "grade": false,
     "grade_id": "cell-5848083b5a2e8f49",
     "locked": true,
     "schema_version": 3,
     "solution": false,
     "task": false
    },
    "slideshow": {
     "slide_type": "subslide"
    }
   },
   "source": [
    "### Access modifiers\n",
    "\n",
    "There is not really a way to have the access modifiers implemented in a python class. A workaround is normaly used, where `private` members are named with a leading underscore `_`."
   ]
  },
  {
   "cell_type": "code",
   "execution_count": null,
   "metadata": {
    "slideshow": {
     "slide_type": "fragment"
    }
   },
   "outputs": [],
   "source": [
    "class PrivateCar:\n",
    "    _name = \"\"\n",
    "    _kind = \"\"\n",
    "    _color = \"\"\n",
    "    _value = 100000.00\n",
    "\n",
    "privateMcQueen = PrivateCar()\n",
    "privateMcQueen._name = \"foo\"  # normaly would expect a violation here"
   ]
  },
  {
   "cell_type": "markdown",
   "metadata": {
    "deletable": false,
    "editable": false,
    "nbgrader": {
     "cell_type": "markdown",
     "checksum": "f12edcb8a905be8301a29ae001162a98",
     "grade": false,
     "grade_id": "cell-cd2d5a90cd29ca2c",
     "locked": true,
     "schema_version": 3,
     "solution": false,
     "task": false
    },
    "slideshow": {
     "slide_type": "subslide"
    }
   },
   "source": [
    "## Python Naming Conventions\n",
    "> - Function names should be all lower case\n",
    "> - Words in a function name should be separated by an underscore\n",
    "> - Class names should follow the UpperCaseCamelCase convention\n",
    "> - Python’s built-in classes, however, are typically lowercase words"
   ]
  },
  {
   "cell_type": "markdown",
   "metadata": {
    "deletable": false,
    "editable": false,
    "nbgrader": {
     "cell_type": "markdown",
     "checksum": "14de4334c4b6c411342c733971d91d13",
     "grade": false,
     "grade_id": "cell-dd539a29695f05d4",
     "locked": true,
     "schema_version": 3,
     "solution": false,
     "task": false
    },
    "slideshow": {
     "slide_type": "slide"
    }
   },
   "source": [
    "<a name=\"dicts\"></a>\n",
    "## Dictionaries\n",
    "A dictionary is a data type similar to lists, but works with keys and values instead of indexes. Each value stored in a dictionary can be accessed using a key, which can be any type of object, instead of using its index. A dictionary is indicated by curly brackets ``{}``.\n",
    "![MLB logo](https://cdn.iconscout.com/icon/free/png-256/major-285385.png)"
   ]
  },
  {
   "cell_type": "markdown",
   "metadata": {
    "deletable": false,
    "editable": false,
    "nbgrader": {
     "cell_type": "markdown",
     "checksum": "c0d64472805bbcee5743347f275cc68a",
     "grade": false,
     "grade_id": "cell-b8eda0fd5da94f56",
     "locked": true,
     "schema_version": 3,
     "solution": false,
     "task": false
    },
    "slideshow": {
     "slide_type": "subslide"
    }
   },
   "source": [
    "Fill initially empty dictionary"
   ]
  },
  {
   "cell_type": "code",
   "execution_count": null,
   "metadata": {
    "slideshow": {
     "slide_type": "fragment"
    }
   },
   "outputs": [],
   "source": [
    "MLB_team = {}  # same as MLB = dict()\n",
    "MLB_team['Colorado'] = 'Rockies'\n",
    "MLB_team['Boston'] = 'Red Sox'\n",
    "MLB_team['Minnesota'] = 'Twins'\n",
    "MLB_team['Milwaukee'] = 'Brewers'\n",
    "MLB_team['Seattle'] = 'Mariners'\n",
    "print(MLB_team)"
   ]
  },
  {
   "cell_type": "markdown",
   "metadata": {
    "deletable": false,
    "editable": false,
    "nbgrader": {
     "cell_type": "markdown",
     "checksum": "d94a2276e238d6efe96b5d40e3a7eace",
     "grade": false,
     "grade_id": "cell-2ba411b379ead036",
     "locked": true,
     "schema_version": 3,
     "solution": false,
     "task": false
    },
    "slideshow": {
     "slide_type": "fragment"
    }
   },
   "source": [
    "Directly fill dictionary with items (key:value - pairs)"
   ]
  },
  {
   "cell_type": "code",
   "execution_count": null,
   "metadata": {
    "slideshow": {
     "slide_type": "fragment"
    }
   },
   "outputs": [],
   "source": [
    "MLB_team = {\n",
    "    'Colorado': 'Rockies',\n",
    "    'Boston': 'Red Sox',\n",
    "    'Minnesota': 'Twins',\n",
    "    'Milwaukee': 'Brewers',\n",
    "    'Seattle': 'Mariners'\n",
    "}\n",
    "print(MLB_team)"
   ]
  },
  {
   "cell_type": "markdown",
   "metadata": {
    "deletable": false,
    "editable": false,
    "nbgrader": {
     "cell_type": "markdown",
     "checksum": "266ccc5dfc1abbc350f696613ac00181",
     "grade": false,
     "grade_id": "cell-572bd908cb8ed0ae",
     "locked": true,
     "schema_version": 3,
     "solution": false,
     "task": false
    },
    "slideshow": {
     "slide_type": "subslide"
    }
   },
   "source": [
    "### Accessing Dictionary Values\n",
    "The dictionary entries are displayed in the order they were defined. But that is irrelevant when it comes to retrieving them. Dictionary elements are not accessed by numerical index:"
   ]
  },
  {
   "cell_type": "code",
   "execution_count": null,
   "metadata": {
    "slideshow": {
     "slide_type": "fragment"
    }
   },
   "outputs": [],
   "source": [
    "MLB_team[0]    # this throws an exception"
   ]
  },
  {
   "cell_type": "markdown",
   "metadata": {
    "deletable": false,
    "editable": false,
    "nbgrader": {
     "cell_type": "markdown",
     "checksum": "e1c9b3b5defad39ddc6381820efaabcd",
     "grade": false,
     "grade_id": "cell-f31b6c13aafab225",
     "locked": true,
     "schema_version": 3,
     "solution": false,
     "task": false
    },
    "slideshow": {
     "slide_type": "subslide"
    }
   },
   "source": [
    "The same error is raised when trying to access an inexistent key:"
   ]
  },
  {
   "cell_type": "code",
   "execution_count": null,
   "metadata": {
    "slideshow": {
     "slide_type": "fragment"
    }
   },
   "outputs": [],
   "source": [
    "MLB_team['Pittsburgh']"
   ]
  },
  {
   "cell_type": "markdown",
   "metadata": {
    "deletable": false,
    "editable": false,
    "nbgrader": {
     "cell_type": "markdown",
     "checksum": "83ec7df1d7da429f44f1d3e1a82d8475",
     "grade": false,
     "grade_id": "cell-d8a08d668635f2ff",
     "locked": true,
     "schema_version": 3,
     "solution": false,
     "task": false
    },
    "slideshow": {
     "slide_type": "subslide"
    }
   },
   "source": [
    "Access a dictionary's values using keys. This way, you can also update a given value or delete it."
   ]
  },
  {
   "cell_type": "code",
   "execution_count": null,
   "metadata": {
    "slideshow": {
     "slide_type": "fragment"
    }
   },
   "outputs": [],
   "source": [
    "print(MLB_team['Seattle'])"
   ]
  },
  {
   "cell_type": "code",
   "execution_count": null,
   "metadata": {
    "slideshow": {
     "slide_type": "fragment"
    }
   },
   "outputs": [],
   "source": [
    "MLB_team['Seattle'] = 'Pilots'\n",
    "print(MLB_team['Seattle'])"
   ]
  },
  {
   "cell_type": "code",
   "execution_count": null,
   "metadata": {
    "slideshow": {
     "slide_type": "fragment"
    }
   },
   "outputs": [],
   "source": [
    "del MLB_team['Seattle']  # or: MLB_team.pop('Seattle')\n",
    "print(MLB_team)"
   ]
  },
  {
   "cell_type": "markdown",
   "metadata": {
    "deletable": false,
    "editable": false,
    "nbgrader": {
     "cell_type": "markdown",
     "checksum": "8dda69c2d8c441c4ed8a00aff7b9b81a",
     "grade": false,
     "grade_id": "cell-8816b76b54aced19",
     "locked": true,
     "schema_version": 3,
     "solution": false,
     "task": false
    },
    "slideshow": {
     "slide_type": "subslide"
    }
   },
   "source": [
    "You can also iterate over all dictionary items:"
   ]
  },
  {
   "cell_type": "code",
   "execution_count": null,
   "metadata": {
    "slideshow": {
     "slide_type": "fragment"
    }
   },
   "outputs": [],
   "source": [
    "for city, team in MLB_team.items():\n",
    "    print(f\"{city}'s team is called {team}.\")"
   ]
  },
  {
   "cell_type": "markdown",
   "metadata": {
    "deletable": false,
    "editable": false,
    "nbgrader": {
     "cell_type": "markdown",
     "checksum": "3d3085b746219006a5b290ffdac2d940",
     "grade": false,
     "grade_id": "cell-4c49c618b144f38d",
     "locked": true,
     "schema_version": 3,
     "solution": false,
     "task": false
    },
    "slideshow": {
     "slide_type": "subslide"
    }
   },
   "source": [
    "### Lists vs. Dictionaries\n",
    "1. Both are mutable.\n",
    "2. Both are dynamic. They can grow and shrink as needed.\n",
    "3. Both can be nested. A list can contain another list. A dictionary can contain another dictionary. A dictionary can also contain a list, and vice versa.\n",
    "4. List elements are accessed by their position via indexing.\n",
    "5. Dictionary elements are accessed via keys."
   ]
  },
  {
   "cell_type": "markdown",
   "metadata": {
    "deletable": false,
    "editable": false,
    "nbgrader": {
     "cell_type": "markdown",
     "checksum": "e376e8e77c5a6ee7dd4f25acabfd93e3",
     "grade": false,
     "grade_id": "cell-d34af5d41298d63b",
     "locked": true,
     "schema_version": 3,
     "solution": false,
     "task": false
    },
    "slideshow": {
     "slide_type": "slide"
    }
   },
   "source": [
    "<a name=\"sets\"></a>\n",
    "## Sets\n",
    "Simply put, sets are lists with no duplicate entries. In fact, a set has the following characteristics:\n",
    "- Sets are unordered.\n",
    "- Set elements are unique. Duplicate elements are not allowed.\n",
    "- A set itself may be modified, but the elements contained in the set must be of an immutable type."
   ]
  },
  {
   "cell_type": "markdown",
   "metadata": {
    "deletable": false,
    "editable": false,
    "nbgrader": {
     "cell_type": "markdown",
     "checksum": "a0c70911bc0775aacab4655d0d0c5b1f",
     "grade": false,
     "grade_id": "cell-cd0be17d0d0f9ca2",
     "locked": true,
     "schema_version": 3,
     "solution": false,
     "task": false
    },
    "slideshow": {
     "slide_type": "subslide"
    }
   },
   "source": [
    "## Mutable vs Immutable Objects\n",
    "Simply put, mutable objects can be changed after they are created, while immutable objects can't.\n",
    "\n",
    "**Immutable objects:**\n",
    "\n",
    "int, float, string, tuple, bytes\n",
    "\n",
    "**Mutable objects:**\n",
    "\n",
    "list, dict, set"
   ]
  },
  {
   "cell_type": "markdown",
   "metadata": {
    "deletable": false,
    "editable": false,
    "nbgrader": {
     "cell_type": "markdown",
     "checksum": "ebab6c3fe87b4f748f03748d442ec554",
     "grade": false,
     "grade_id": "cell-e0f0e794854ac2bd",
     "locked": true,
     "schema_version": 3,
     "solution": false,
     "task": false
    },
    "slideshow": {
     "slide_type": "subslide"
    }
   },
   "source": [
    "We now create an object of type int. Note how ``x`` and ``y`` point to the same object. "
   ]
  },
  {
   "cell_type": "code",
   "execution_count": null,
   "metadata": {
    "slideshow": {
     "slide_type": "fragment"
    }
   },
   "outputs": [],
   "source": [
    "x = 10\n",
    "y = x\n",
    "print(f'{id(x)}, {id(y)}, {id(10)}')"
   ]
  },
  {
   "cell_type": "markdown",
   "metadata": {
    "deletable": false,
    "editable": false,
    "nbgrader": {
     "cell_type": "markdown",
     "checksum": "a784370c5c8620a581cba7082940ac89",
     "grade": false,
     "grade_id": "cell-4af69dd79e0c4317",
     "locked": true,
     "schema_version": 3,
     "solution": false,
     "task": false
    },
    "slideshow": {
     "slide_type": "fragment"
    }
   },
   "source": [
    "compare the values"
   ]
  },
  {
   "cell_type": "code",
   "execution_count": null,
   "metadata": {
    "slideshow": {
     "slide_type": "fragment"
    }
   },
   "outputs": [],
   "source": [
    "print(x == y) \n",
    "print(x == 10)  \n",
    "print(y == 10)"
   ]
  },
  {
   "cell_type": "markdown",
   "metadata": {
    "deletable": false,
    "editable": false,
    "nbgrader": {
     "cell_type": "markdown",
     "checksum": "796fa5266ab8a0f880f86b92c929af52",
     "grade": false,
     "grade_id": "cell-1371181471295c83",
     "locked": true,
     "schema_version": 3,
     "solution": false,
     "task": false
    },
    "slideshow": {
     "slide_type": "fragment"
    }
   },
   "source": [
    "compare the objects (= object ids)"
   ]
  },
  {
   "cell_type": "code",
   "execution_count": null,
   "metadata": {
    "slideshow": {
     "slide_type": "fragment"
    }
   },
   "outputs": [],
   "source": [
    "print(x is y)\n",
    "print(x is 10)\n",
    "print(y is 10)"
   ]
  },
  {
   "cell_type": "markdown",
   "metadata": {
    "deletable": false,
    "editable": false,
    "nbgrader": {
     "cell_type": "markdown",
     "checksum": "e4b0d81bf6631efffc85dda2eed2824a",
     "grade": false,
     "grade_id": "cell-c08172b088502730",
     "locked": true,
     "schema_version": 3,
     "solution": false,
     "task": false
    },
    "slideshow": {
     "slide_type": "subslide"
    }
   },
   "source": [
    "See what happens when we change the value of \"x\":"
   ]
  },
  {
   "cell_type": "code",
   "execution_count": null,
   "metadata": {
    "slideshow": {
     "slide_type": "fragment"
    }
   },
   "outputs": [],
   "source": [
    "x += 1\n",
    "print(f'{id(x)}, {id(y)}, {id(10)}')"
   ]
  },
  {
   "cell_type": "markdown",
   "metadata": {
    "deletable": false,
    "editable": false,
    "nbgrader": {
     "cell_type": "markdown",
     "checksum": "e9d93a02cafaed237b3f62cf545acfee",
     "grade": false,
     "grade_id": "cell-04a2b55cc15cadd0",
     "locked": true,
     "schema_version": 3,
     "solution": false,
     "task": false
    },
    "slideshow": {
     "slide_type": "fragment"
    }
   },
   "source": [
    "compare the values"
   ]
  },
  {
   "cell_type": "code",
   "execution_count": null,
   "metadata": {
    "slideshow": {
     "slide_type": "fragment"
    }
   },
   "outputs": [],
   "source": [
    "print(x == y) \n",
    "print(x == 10)\n",
    "print(y == 10)"
   ]
  },
  {
   "cell_type": "markdown",
   "metadata": {
    "deletable": false,
    "editable": false,
    "nbgrader": {
     "cell_type": "markdown",
     "checksum": "6d9690909f9a531916de959721209883",
     "grade": false,
     "grade_id": "cell-38ebab2bb6673ec2",
     "locked": true,
     "schema_version": 3,
     "solution": false,
     "task": false
    },
    "slideshow": {
     "slide_type": "fragment"
    }
   },
   "source": [
    "compare the objects (= object ids)"
   ]
  },
  {
   "cell_type": "code",
   "execution_count": null,
   "metadata": {
    "slideshow": {
     "slide_type": "fragment"
    }
   },
   "outputs": [],
   "source": [
    "print(x is y)\n",
    "print(x is 10)\n",
    "print(y is 10)"
   ]
  },
  {
   "cell_type": "markdown",
   "metadata": {
    "deletable": false,
    "editable": false,
    "nbgrader": {
     "cell_type": "markdown",
     "checksum": "f24b24a9c055c9375e1b301e9e0594f7",
     "grade": false,
     "grade_id": "cell-137248d39f325bfd",
     "locked": true,
     "schema_version": 3,
     "solution": false,
     "task": false
    },
    "slideshow": {
     "slide_type": "subslide"
    }
   },
   "source": [
    "\"Changing the value\" of an immutable object in fact **creates a new object**! Object 10 was never changed."
   ]
  },
  {
   "cell_type": "markdown",
   "metadata": {
    "deletable": false,
    "editable": false,
    "nbgrader": {
     "cell_type": "markdown",
     "checksum": "266c2ac831e3a57cf19fe97e75e3cdb9",
     "grade": false,
     "grade_id": "cell-f369550e211ba389",
     "locked": true,
     "schema_version": 3,
     "solution": false,
     "task": false
    },
    "slideshow": {
     "slide_type": "subslide"
    }
   },
   "source": [
    "Now compare this to the behaviour of a mutable object, e.g. a list:"
   ]
  },
  {
   "cell_type": "code",
   "execution_count": null,
   "metadata": {
    "slideshow": {
     "slide_type": "fragment"
    }
   },
   "outputs": [],
   "source": [
    "first_list = [1, 2, 3]\n",
    "also_first_list = first_list\n",
    "print(f'{id(first_list)}, {id(also_first_list)}')"
   ]
  },
  {
   "cell_type": "markdown",
   "metadata": {
    "deletable": false,
    "editable": false,
    "nbgrader": {
     "cell_type": "markdown",
     "checksum": "4625726fdba510f04503f2c2cd9ca623",
     "grade": false,
     "grade_id": "cell-5d3582bfbb4991a0",
     "locked": true,
     "schema_version": 3,
     "solution": false,
     "task": false
    },
    "slideshow": {
     "slide_type": "fragment"
    }
   },
   "source": [
    "compare the values"
   ]
  },
  {
   "cell_type": "code",
   "execution_count": null,
   "metadata": {
    "slideshow": {
     "slide_type": "fragment"
    }
   },
   "outputs": [],
   "source": [
    "print(first_list == also_first_list)"
   ]
  },
  {
   "cell_type": "markdown",
   "metadata": {
    "deletable": false,
    "editable": false,
    "nbgrader": {
     "cell_type": "markdown",
     "checksum": "e12d4eff14db00a8d0e0377cca2c214c",
     "grade": false,
     "grade_id": "cell-21582ab0d69e17dd",
     "locked": true,
     "schema_version": 3,
     "solution": false,
     "task": false
    },
    "slideshow": {
     "slide_type": "fragment"
    }
   },
   "source": [
    "compare the objects (= object ids)"
   ]
  },
  {
   "cell_type": "code",
   "execution_count": null,
   "metadata": {
    "slideshow": {
     "slide_type": "fragment"
    }
   },
   "outputs": [],
   "source": [
    "print(first_list is also_first_list)"
   ]
  },
  {
   "cell_type": "markdown",
   "metadata": {
    "deletable": false,
    "editable": false,
    "nbgrader": {
     "cell_type": "markdown",
     "checksum": "4c4fb05979bf63bbed5ba0207878fcd5",
     "grade": false,
     "grade_id": "cell-fa4a366303e529f2",
     "locked": true,
     "schema_version": 3,
     "solution": false,
     "task": false
    },
    "slideshow": {
     "slide_type": "subslide"
    }
   },
   "source": [
    "And see what happens if we change the list (e.g. removing an element):"
   ]
  },
  {
   "cell_type": "code",
   "execution_count": null,
   "metadata": {
    "slideshow": {
     "slide_type": "fragment"
    }
   },
   "outputs": [],
   "source": [
    "first_list.pop()\n",
    "print(first_list)\n",
    "print(f'{id(first_list)}, {id(also_first_list)}')"
   ]
  },
  {
   "cell_type": "markdown",
   "metadata": {
    "deletable": false,
    "editable": false,
    "nbgrader": {
     "cell_type": "markdown",
     "checksum": "728e5ac27ab2bd527c8ee2338bb90025",
     "grade": false,
     "grade_id": "cell-fab0dd24b781b7ec",
     "locked": true,
     "schema_version": 3,
     "solution": false,
     "task": false
    },
    "slideshow": {
     "slide_type": "fragment"
    }
   },
   "source": [
    "compare the values"
   ]
  },
  {
   "cell_type": "code",
   "execution_count": null,
   "metadata": {
    "slideshow": {
     "slide_type": "fragment"
    }
   },
   "outputs": [],
   "source": [
    "print(first_list == also_first_list)"
   ]
  },
  {
   "cell_type": "markdown",
   "metadata": {
    "deletable": false,
    "editable": false,
    "nbgrader": {
     "cell_type": "markdown",
     "checksum": "b61f972659b6cdcba67e595054b9c8d7",
     "grade": false,
     "grade_id": "cell-e4874fe820525cb8",
     "locked": true,
     "schema_version": 3,
     "solution": false,
     "task": false
    },
    "slideshow": {
     "slide_type": "fragment"
    }
   },
   "source": [
    "compare the objects (= object ids)"
   ]
  },
  {
   "cell_type": "code",
   "execution_count": null,
   "metadata": {
    "slideshow": {
     "slide_type": "fragment"
    }
   },
   "outputs": [],
   "source": [
    "print(first_list is also_first_list)"
   ]
  },
  {
   "cell_type": "markdown",
   "metadata": {
    "deletable": false,
    "editable": false,
    "nbgrader": {
     "cell_type": "markdown",
     "checksum": "69609e33c860bf4a726e5a214f5b8111",
     "grade": false,
     "grade_id": "cell-b88be5e4df580bd1",
     "locked": true,
     "schema_version": 3,
     "solution": false,
     "task": false
    },
    "slideshow": {
     "slide_type": "subslide"
    }
   },
   "source": [
    "The two lists still point to the same object (same object id). **Both** lists have been affected by the modification!\n",
    "\n",
    "*from: [Blog post](https://medium.com/@meghamohan/mutable-and-immutable-side-of-python-c2145cf72747)*"
   ]
  },
  {
   "cell_type": "code",
   "execution_count": null,
   "metadata": {
    "slideshow": {
     "slide_type": "fragment"
    }
   },
   "outputs": [],
   "source": [
    "print(first_list)\n",
    "print(also_first_list)"
   ]
  },
  {
   "cell_type": "markdown",
   "metadata": {
    "deletable": false,
    "editable": false,
    "nbgrader": {
     "cell_type": "markdown",
     "checksum": "d6fe68a204f4ce8040c2744f619c768f",
     "grade": false,
     "grade_id": "cell-a681f61479681a36",
     "locked": true,
     "schema_version": 3,
     "solution": false,
     "task": false
    },
    "slideshow": {
     "slide_type": "subslide"
    }
   },
   "source": [
    "### Back to sets\n",
    "\n",
    "Let's say you want to collect a list of unique words used in a sentence. This is where a set comes in handy:"
   ]
  },
  {
   "cell_type": "code",
   "execution_count": null,
   "metadata": {
    "slideshow": {
     "slide_type": "fragment"
    }
   },
   "outputs": [],
   "source": [
    "print(set(\"my name is Jonathan and Jonathan is my name\".split()))"
   ]
  },
  {
   "cell_type": "markdown",
   "metadata": {
    "deletable": false,
    "editable": false,
    "nbgrader": {
     "cell_type": "markdown",
     "checksum": "1b9aa27039d944afa86f1d9752b6d1f3",
     "grade": false,
     "grade_id": "cell-6881c1a0957bb0c5",
     "locked": true,
     "schema_version": 3,
     "solution": false,
     "task": false
    },
    "slideshow": {
     "slide_type": "fragment"
    }
   },
   "source": [
    "**QUESTIONS**\n",
    "\n",
    "* Analyze this statement:\n",
    "  1. What does the function split() do to the sentence?\n",
    "  1. What does the print output look like, if you delete the ``set()`` call?\n",
    "  1. What is the difference between the two outputs?"
   ]
  },
  {
   "cell_type": "code",
   "execution_count": null,
   "metadata": {
    "deletable": false,
    "nbgrader": {
     "cell_type": "code",
     "checksum": "c1b6b08415900daa05b7545f13b7b9e5",
     "grade": true,
     "grade_id": "cell-22cac42addd3c000",
     "locked": false,
     "points": 0,
     "schema_version": 3,
     "solution": true,
     "task": false
    },
    "slideshow": {
     "slide_type": "skip"
    }
   },
   "outputs": [],
   "source": [
    "# YOUR CODE HERE\n",
    "raise NotImplementedError()"
   ]
  },
  {
   "cell_type": "markdown",
   "metadata": {
    "deletable": false,
    "editable": false,
    "nbgrader": {
     "cell_type": "markdown",
     "checksum": "68bbc0182dca5d751fac21a105d8bcc5",
     "grade": false,
     "grade_id": "cell-d59e7395c85bee41",
     "locked": true,
     "schema_version": 3,
     "solution": false,
     "task": false
    },
    "slideshow": {
     "slide_type": "subslide"
    }
   },
   "source": [
    "### Set Operations\n",
    "Many of the operations that can be used for Python’s other composite data types don’t make sense for sets. For example, sets can’t be indexed or sliced. However, Python provides a range of operations on set objects that generally mimic the operations that are defined for mathematical sets."
   ]
  },
  {
   "cell_type": "markdown",
   "metadata": {
    "deletable": false,
    "editable": false,
    "nbgrader": {
     "cell_type": "markdown",
     "checksum": "6f1a4fcc80f7f1c745e4b4568468e929",
     "grade": false,
     "grade_id": "cell-49ab1344d96b79d6",
     "locked": true,
     "schema_version": 3,
     "solution": false,
     "task": false
    },
    "slideshow": {
     "slide_type": "subslide"
    }
   },
   "source": [
    "Recall some of these mathematical set operators and try to guess which operator symbols could be used to implement them. Use the two sets of terms below to experiment with these operators.\n",
    "\n",
    "__TODO:__ find out about Python's set operators (union, intersection, difference)"
   ]
  },
  {
   "cell_type": "code",
   "execution_count": null,
   "metadata": {
    "deletable": false,
    "nbgrader": {
     "cell_type": "code",
     "checksum": "4c1874da22209d7a51f9f43e5f901c3f",
     "grade": true,
     "grade_id": "cell-15aea90fd9474b2e",
     "locked": false,
     "points": 0,
     "schema_version": 3,
     "solution": true,
     "task": false
    },
    "slideshow": {
     "slide_type": "fragment"
    }
   },
   "outputs": [],
   "source": [
    "english_terms = {\"computer\", \"mouse\", \"keyboard\", \"display\", \"window\", \"application\"}\n",
    "german_terms = {\"computer\", \"mouse\", \"tastatur\", \"monitor\", \"fenster\", \"anwendung\"}\n",
    "\n",
    "# YOUR CODE HERE\n",
    "raise NotImplementedError()"
   ]
  },
  {
   "cell_type": "markdown",
   "metadata": {
    "deletable": false,
    "editable": false,
    "nbgrader": {
     "cell_type": "markdown",
     "checksum": "7e67a1ff1f513be96d90cb687ee14add",
     "grade": false,
     "grade_id": "cell-832e4448002a413e",
     "locked": true,
     "schema_version": 3,
     "solution": false,
     "task": false
    },
    "slideshow": {
     "slide_type": "slide"
    }
   },
   "source": [
    "<a name=\"comprehension\"></a>\n",
    "## List Comprehension\n",
    "List comprehensions are an advanced Python topic that are really useful to shorten code (whilst usually remaining readable)."
   ]
  },
  {
   "cell_type": "markdown",
   "metadata": {
    "deletable": false,
    "editable": false,
    "nbgrader": {
     "cell_type": "markdown",
     "checksum": "199cf7528d7b961eead0c9e2e9d9c77a",
     "grade": false,
     "grade_id": "cell-eef5cc192553aa21",
     "locked": true,
     "schema_version": 3,
     "solution": false,
     "task": false
    },
    "slideshow": {
     "slide_type": "subslide"
    }
   },
   "source": [
    "Take a look at the above code and try to explain in words, what it does."
   ]
  },
  {
   "cell_type": "code",
   "execution_count": null,
   "metadata": {
    "slideshow": {
     "slide_type": "fragment"
    }
   },
   "outputs": [],
   "source": [
    "sentence = \"the quick brown fox jumps over the lazy dog\"\n",
    "words = sentence.split()\n",
    "word_lengths = []\n",
    "for word in words:\n",
    "    if word != \"the\":\n",
    "        word_lengths.append(len(word))\n",
    "print(word_lengths)"
   ]
  },
  {
   "cell_type": "markdown",
   "metadata": {
    "deletable": false,
    "editable": false,
    "nbgrader": {
     "cell_type": "markdown",
     "checksum": "5face39f76d2ad850bb3ce8451f591f6",
     "grade": false,
     "grade_id": "cell-ea3fa81edd15a7cf",
     "locked": true,
     "schema_version": 3,
     "solution": false,
     "task": false
    },
    "slideshow": {
     "slide_type": "subslide"
    }
   },
   "source": [
    "Next, look at the code below and see how elegantly this can be achieved in a single line (instead of five):"
   ]
  },
  {
   "cell_type": "code",
   "execution_count": null,
   "metadata": {
    "slideshow": {
     "slide_type": "fragment"
    }
   },
   "outputs": [],
   "source": [
    "word_lengths = [len(word) for word in sentence.split() if word != \"the\"]\n",
    "print(word_lengths)"
   ]
  },
  {
   "cell_type": "markdown",
   "metadata": {
    "deletable": false,
    "editable": false,
    "nbgrader": {
     "cell_type": "markdown",
     "checksum": "17a6f6ffe18e8321b23f86ba29096b1c",
     "grade": false,
     "grade_id": "cell-051a7f729e928f34",
     "locked": true,
     "schema_version": 3,
     "solution": false,
     "task": false
    },
    "slideshow": {
     "slide_type": "slide"
    }
   },
   "source": [
    "<a name=\"exercise\"></a>\n",
    "## Wrap-up Exercises\n",
    "\n",
    "1. Write a function ``check_palindrome`` that takes a string as argument and returns ``True`` if the string is a palindrome, else ``False``."
   ]
  },
  {
   "cell_type": "code",
   "execution_count": null,
   "metadata": {
    "deletable": false,
    "nbgrader": {
     "cell_type": "code",
     "checksum": "58c1f31c09a9857a19fb54fda85c4375",
     "grade": true,
     "grade_id": "cell-b28e0d42b5bca6ef",
     "locked": false,
     "points": 0,
     "schema_version": 3,
     "solution": true,
     "task": false
    },
    "slideshow": {
     "slide_type": "fragment"
    }
   },
   "outputs": [],
   "source": [
    "# YOUR CODE HERE\n",
    "raise NotImplementedError()"
   ]
  },
  {
   "cell_type": "markdown",
   "metadata": {
    "deletable": false,
    "editable": false,
    "nbgrader": {
     "cell_type": "markdown",
     "checksum": "f40f92ad0a2aea2a82e9ac569976f05a",
     "grade": false,
     "grade_id": "cell-13adf74e0ab793d9",
     "locked": true,
     "schema_version": 3,
     "solution": false,
     "task": false
    },
    "slideshow": {
     "slide_type": "fragment"
    }
   },
   "source": [
    "2. List comprehensions can also contain conditions. Loop over the numbers from 2 to 21 (using ``range``) and store only numbers that are multiples of 3 (using ``%``) to the variable ``multiples3``. If unsure, use the Internet to find out about the correct syntax."
   ]
  },
  {
   "cell_type": "code",
   "execution_count": null,
   "metadata": {
    "deletable": false,
    "nbgrader": {
     "cell_type": "code",
     "checksum": "f5188135e5c40a4a365d8e9e3bbe68e0",
     "grade": true,
     "grade_id": "cell-d1adfc9dae2374dd",
     "locked": false,
     "points": 0,
     "schema_version": 3,
     "solution": true,
     "task": false
    },
    "slideshow": {
     "slide_type": "fragment"
    }
   },
   "outputs": [],
   "source": [
    "# YOUR CODE HERE\n",
    "raise NotImplementedError()"
   ]
  },
  {
   "cell_type": "markdown",
   "metadata": {
    "deletable": false,
    "editable": false,
    "nbgrader": {
     "cell_type": "markdown",
     "checksum": "49848db7379834ac8291cc78a3166aca",
     "grade": false,
     "grade_id": "cell-12b764833ab94291",
     "locked": true,
     "schema_version": 3,
     "solution": false,
     "task": false
    },
    "slideshow": {
     "slide_type": "fragment"
    }
   },
   "source": [
    "3. Write a class ``Rocket``. The ``__init__`` function (without parameters) should set the class variables ``x``, ``y`` and ``z`` to zero. Add a method ``move_up`` that increments the ``z`` value by ``1``.\n",
    "\n",
    "Then, create a fleet of 3 rockets and store them in the list ``space_rockets``. Move the first rocket up and then iterate over the list to print there altitudes."
   ]
  },
  {
   "cell_type": "code",
   "execution_count": null,
   "metadata": {
    "deletable": false,
    "nbgrader": {
     "cell_type": "code",
     "checksum": "2dbdcd82e7806968ea3ddde4d55cd572",
     "grade": true,
     "grade_id": "cell-2e4f344fe717e07f",
     "locked": false,
     "points": 0,
     "schema_version": 3,
     "solution": true,
     "task": false
    },
    "slideshow": {
     "slide_type": "fragment"
    }
   },
   "outputs": [],
   "source": [
    "# YOUR CODE HERE\n",
    "raise NotImplementedError()"
   ]
  },
  {
   "cell_type": "markdown",
   "metadata": {
    "deletable": false,
    "editable": false,
    "nbgrader": {
     "cell_type": "markdown",
     "checksum": "59588aca422aef5821928aa027347a90",
     "grade": false,
     "grade_id": "cell-6996fc5562349981",
     "locked": true,
     "schema_version": 3,
     "solution": false,
     "task": false
    },
    "slideshow": {
     "slide_type": "slide"
    }
   },
   "source": [
    "# Inspriation/Further Reading\n",
    "- [learnpython](https://www.learnpython.org/)\n",
    "- [Classes](https://www.w3schools.com/python/python_classes.asp)\n",
    "- [Default arguments](https://www.geeksforgeeks.org/default-arguments-in-python/)\n",
    "- [Dictionaries](https://realpython.com/python-dicts/)\n",
    "- [Sets](https://realpython.com/python-sets/)"
   ]
  }
 ],
 "metadata": {
  "kernelspec": {
   "display_name": "Python 3 (ipykernel)",
   "language": "python",
   "name": "python3"
  },
  "language_info": {
   "codemirror_mode": {
    "name": "ipython",
    "version": 3
   },
   "file_extension": ".py",
   "mimetype": "text/x-python",
   "name": "python",
   "nbconvert_exporter": "python",
   "pygments_lexer": "ipython3",
   "version": "3.8.10"
  },
  "rise": {
   "enable_chalkboard": true
  }
 },
 "nbformat": 4,
 "nbformat_minor": 2
}
