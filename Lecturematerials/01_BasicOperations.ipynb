{
 "cells": [
  {
   "cell_type": "markdown",
   "metadata": {
    "deletable": false,
    "editable": false,
    "nbgrader": {
     "cell_type": "markdown",
     "checksum": "3d22ba916af711a6da67e8053ff73007",
     "grade": false,
     "grade_id": "cell-2dc510f4fa0b4ace",
     "locked": true,
     "schema_version": 3,
     "solution": false,
     "task": false
    },
    "slideshow": {
     "slide_type": "slide"
    }
   },
   "source": [
    "# Python Intro and Basic Operations"
   ]
  },
  {
   "cell_type": "markdown",
   "metadata": {
    "deletable": false,
    "editable": false,
    "nbgrader": {
     "cell_type": "markdown",
     "checksum": "f9ea2791be2473cdd48a98fb33e9a375",
     "grade": false,
     "grade_id": "cell-6172da717a9e547b",
     "locked": true,
     "schema_version": 3,
     "solution": false,
     "task": false
    },
    "slideshow": {
     "slide_type": "slide"
    }
   },
   "source": [
    "## Table of Contents\n",
    "1. [Variables and Types](#vars)\n",
    "1. [Lists](#lists)\n",
    "1. [Basic Operators](#operators)\n",
    "1. [String Operators and Formatting](#strings)\n",
    "1. [Conditions](#conditions)\n",
    "1. [Loops](#loops)\n",
    "1. [Exercise](#exercise)"
   ]
  },
  {
   "cell_type": "markdown",
   "metadata": {
    "deletable": false,
    "editable": false,
    "nbgrader": {
     "cell_type": "markdown",
     "checksum": "51062d18cdb11b258bb7e3cadb842fdd",
     "grade": false,
     "grade_id": "cell-a983adaa84fdf396",
     "locked": true,
     "schema_version": 3,
     "solution": false,
     "task": false
    },
    "slideshow": {
     "slide_type": "subslide"
    }
   },
   "source": [
    "## Basic Syntax\n",
    "Python syntax is clear and easy-to-read. However, it has a strict style using indentation instead of brackets.  ``#`` is used to mark single-lined comments."
   ]
  },
  {
   "cell_type": "code",
   "execution_count": null,
   "metadata": {
    "slideshow": {
     "slide_type": "fragment"
    }
   },
   "outputs": [],
   "source": [
    "# no semicolon at the end of a statement\n",
    "x = 1\n",
    "# colon at the end of conditions and loops\n",
    "if x == 1:\n",
    "    # indentation to denote different levels of scope\n",
    "    print('x is one.')"
   ]
  },
  {
   "cell_type": "markdown",
   "metadata": {
    "deletable": false,
    "editable": false,
    "nbgrader": {
     "cell_type": "markdown",
     "checksum": "9abdfca05b7bce53ad8409656e9c1930",
     "grade": false,
     "grade_id": "cell-2f6b5510fd931949",
     "locked": true,
     "schema_version": 3,
     "solution": false,
     "task": false
    },
    "slideshow": {
     "slide_type": "subslide"
    }
   },
   "source": [
    "## Hello, World!\n",
    "The Hello, World! starter code is a single line only.\n",
    "\n",
    "The print directive is built-in and does not require any library imports. It already includes a newline at the end of the string."
   ]
  },
  {
   "cell_type": "code",
   "execution_count": null,
   "metadata": {
    "slideshow": {
     "slide_type": "fragment"
    }
   },
   "outputs": [],
   "source": [
    "print(\"Hello, world!\")"
   ]
  },
  {
   "cell_type": "markdown",
   "metadata": {
    "deletable": false,
    "editable": false,
    "nbgrader": {
     "cell_type": "markdown",
     "checksum": "7517a1d4530d3bd8229ae85dfa25579c",
     "grade": false,
     "grade_id": "cell-fc0d74a6834288ab",
     "locked": true,
     "schema_version": 3,
     "solution": false,
     "task": false
    },
    "slideshow": {
     "slide_type": "subslide"
    }
   },
   "source": [
    "## Environment\n",
    "* Command Line\n",
    "* Notebooks\n",
    "  * Jupyter, Google Colab, ...\n",
    "* Integrated Development Environment (IDE)\n",
    "  * Spyder, Rodeo, Visual Studio, PyCharm, ..."
   ]
  },
  {
   "cell_type": "markdown",
   "metadata": {
    "deletable": false,
    "editable": false,
    "nbgrader": {
     "cell_type": "markdown",
     "checksum": "54ee1168eafff56ec3ffa332fa23fc34",
     "grade": false,
     "grade_id": "cell-49ba84023d421e2b",
     "locked": true,
     "schema_version": 3,
     "solution": false,
     "task": false
    },
    "slideshow": {
     "slide_type": "slide"
    }
   },
   "source": [
    "<a name=\"vars\"></a>\n",
    "## Variables and Types\n",
    "Python is dynamically typed. In contrast to statically typed languages, variables (and their types) do not need to be declared before using them.\n",
    "\n",
    "As Python is object-oriented, every variable is an object."
   ]
  },
  {
   "cell_type": "markdown",
   "metadata": {
    "deletable": false,
    "editable": false,
    "nbgrader": {
     "cell_type": "markdown",
     "checksum": "6c3ff2825c1273fb07312bdc927896dd",
     "grade": false,
     "grade_id": "cell-bc2118bf7ff2c29b",
     "locked": true,
     "schema_version": 3,
     "solution": false,
     "task": false
    },
    "slideshow": {
     "slide_type": "subslide"
    }
   },
   "source": [
    "### Numbers\n",
    "Python natively supports two types of numbers - integers and floating point numbers. The default is integer:"
   ]
  },
  {
   "cell_type": "code",
   "execution_count": null,
   "metadata": {
    "slideshow": {
     "slide_type": "fragment"
    }
   },
   "outputs": [],
   "source": [
    "int_number = 7\n",
    "print(int_number)"
   ]
  },
  {
   "cell_type": "markdown",
   "metadata": {
    "deletable": false,
    "editable": false,
    "nbgrader": {
     "cell_type": "markdown",
     "checksum": "05b170b4fe0bf27f33b1847f5afce1af",
     "grade": false,
     "grade_id": "cell-85e064ea2c871296",
     "locked": true,
     "schema_version": 3,
     "solution": false,
     "task": false
    },
    "slideshow": {
     "slide_type": "subslide"
    }
   },
   "source": [
    "One of the following two notations can be used to define a floating point number:"
   ]
  },
  {
   "cell_type": "code",
   "execution_count": null,
   "metadata": {
    "slideshow": {
     "slide_type": "fragment"
    }
   },
   "outputs": [],
   "source": [
    "float_number = 7.0\n",
    "print(float_number)\n",
    "\n",
    "float_number = float(7)\n",
    "print(float_number)"
   ]
  },
  {
   "cell_type": "markdown",
   "metadata": {
    "deletable": false,
    "editable": false,
    "nbgrader": {
     "cell_type": "markdown",
     "checksum": "6e225c7a3ee789e15767f1a5c5d3bebf",
     "grade": false,
     "grade_id": "cell-b91000d2fc518da8",
     "locked": true,
     "schema_version": 3,
     "solution": false,
     "task": false
    },
    "slideshow": {
     "slide_type": "subslide"
    }
   },
   "source": [
    "### Strings\n",
    "Strings are defined using either a single quote or double quotes:"
   ]
  },
  {
   "cell_type": "code",
   "execution_count": null,
   "metadata": {
    "slideshow": {
     "slide_type": "fragment"
    }
   },
   "outputs": [],
   "source": [
    "hello_string = 'hello'\n",
    "print(hello_string)\n",
    "\n",
    "hello_string = \"hello\"\n",
    "print(hello_string)\n",
    "\n",
    "assert 'hello' == \"hello\""
   ]
  },
  {
   "cell_type": "markdown",
   "metadata": {
    "deletable": false,
    "editable": false,
    "nbgrader": {
     "cell_type": "markdown",
     "checksum": "cc52421b1e88767e403e107301379dda",
     "grade": false,
     "grade_id": "cell-f1ad4217694990f4",
     "locked": true,
     "schema_version": 3,
     "solution": false,
     "task": false
    },
    "slideshow": {
     "slide_type": "subslide"
    }
   },
   "source": [
    "The difference between the two is that using double quotes makes it easy to include apostrophes. (These would terminate the string if using single quotes.)"
   ]
  },
  {
   "cell_type": "code",
   "execution_count": null,
   "metadata": {
    "slideshow": {
     "slide_type": "fragment"
    }
   },
   "outputs": [],
   "source": [
    "apostrophe_sent = \"Don't worry about apostrophes.\"\n",
    "print(apostrophe_sent)"
   ]
  },
  {
   "cell_type": "markdown",
   "metadata": {
    "deletable": false,
    "editable": false,
    "nbgrader": {
     "cell_type": "markdown",
     "checksum": "815f5aa37b27c913ea3a10de0ea62384",
     "grade": false,
     "grade_id": "cell-c32aad48174ee52a",
     "locked": true,
     "schema_version": 3,
     "solution": false,
     "task": false
    },
    "slideshow": {
     "slide_type": "subslide"
    }
   },
   "source": [
    "Simple operators can be executed on numbers and strings:"
   ]
  },
  {
   "cell_type": "code",
   "execution_count": null,
   "metadata": {
    "slideshow": {
     "slide_type": "fragment"
    }
   },
   "outputs": [],
   "source": [
    "one = 1\n",
    "two = 2\n",
    "three = one + two\n",
    "print(three)\n",
    "\n",
    "hello = \"hello\"\n",
    "world = \"world\"\n",
    "helloworld = hello + \" \" + world\n",
    "print(helloworld)"
   ]
  },
  {
   "cell_type": "markdown",
   "metadata": {
    "deletable": false,
    "editable": false,
    "nbgrader": {
     "cell_type": "markdown",
     "checksum": "1c6c6952453d569283eb2c6a0c377409",
     "grade": false,
     "grade_id": "cell-c0824a169e87a946",
     "locked": true,
     "schema_version": 3,
     "solution": false,
     "task": false
    },
    "slideshow": {
     "slide_type": "subslide"
    }
   },
   "source": [
    "Mixing operators between numbers and strings is not supported (``TypeError``):"
   ]
  },
  {
   "cell_type": "code",
   "execution_count": null,
   "metadata": {
    "slideshow": {
     "slide_type": "fragment"
    }
   },
   "outputs": [],
   "source": [
    "# This will throw an exception (=error)\n",
    "one = 1\n",
    "two = 2\n",
    "hello = \"hello\"\n",
    "print(one + two + hello)"
   ]
  },
  {
   "cell_type": "markdown",
   "metadata": {
    "deletable": false,
    "editable": false,
    "nbgrader": {
     "cell_type": "markdown",
     "checksum": "03f08120063f1ae14d2def386865b5ab",
     "grade": false,
     "grade_id": "cell-04cc74cd677874e8",
     "locked": true,
     "schema_version": 3,
     "solution": false,
     "task": false
    },
    "slideshow": {
     "slide_type": "slide"
    }
   },
   "source": [
    "## Python Naming Conventions\n",
    "> - Avoid names that are too general or too wordy. Strike a good balance between the two\n",
    "> - Don't be jackass and name things \"O\", \"l\" or \"I\"\n",
    "\n",
    "*from: [Naming Conventions](https://visualgit.readthedocs.io/en/latest/pages/naming_convention.html)*"
   ]
  },
  {
   "cell_type": "markdown",
   "metadata": {
    "deletable": false,
    "editable": false,
    "nbgrader": {
     "cell_type": "markdown",
     "checksum": "929038008816b308112f6456bb1ec55a",
     "grade": false,
     "grade_id": "cell-cacd727674eda247",
     "locked": true,
     "schema_version": 3,
     "solution": false,
     "task": false
    },
    "slideshow": {
     "slide_type": "subslide"
    }
   },
   "source": [
    "## Python Naming Conventions\n",
    "> - Bad: \n",
    ">   - data_structure, my_list, info_map\n",
    ">   - dictionary_data_representing_word_definitions\n",
    "> - Good: \n",
    ">   - user_profile, menu_options \n",
    ">   - word_definitions\n",
    "\n",
    "*from: [Naming Conventions](https://visualgit.readthedocs.io/en/latest/pages/naming_convention.html)*"
   ]
  },
  {
   "cell_type": "markdown",
   "metadata": {
    "deletable": false,
    "editable": false,
    "nbgrader": {
     "cell_type": "markdown",
     "checksum": "e5362f4fb755ba58375c517ffa79b058",
     "grade": false,
     "grade_id": "cell-f478f58cd8a1c278",
     "locked": true,
     "schema_version": 3,
     "solution": false,
     "task": false
    },
    "slideshow": {
     "slide_type": "subslide"
    }
   },
   "source": [
    "## Python Naming Conventions\n",
    "> - Variable names should be all lower case\n",
    "> - Words in a variable name should be seperated by an underscore\n",
    "\n",
    "*from: [Naming Conventions](https://visualgit.readthedocs.io/en/latest/pages/naming_convention.html)*"
   ]
  },
  {
   "cell_type": "markdown",
   "metadata": {
    "deletable": false,
    "editable": false,
    "nbgrader": {
     "cell_type": "markdown",
     "checksum": "b9e64c6b41fb4c9484338a754e57d239",
     "grade": false,
     "grade_id": "cell-cd7517cdbfacc54c",
     "locked": true,
     "schema_version": 3,
     "solution": false,
     "task": false
    },
    "slideshow": {
     "slide_type": "slide"
    }
   },
   "source": [
    "<a name=\"lists\"></a>\n",
    "## Lists\n",
    "\n",
    "\n",
    "[![Python List](https://scontent-vie1-1.xx.fbcdn.net/v/t1.6435-9/fr/cp0/e15/q65/126482315_1661956343972076_3020558579607217521_n.jpg?_nc_cat=102&ccb=1-5&_nc_sid=110474&_nc_ohc=3H3BOXHT6k4AX_Mx2QG&_nc_ht=scontent-vie1-1.xx&oh=64eef91cd263723563c8b57ab0edb0c1&oe=615C4F6F)](https://www.facebook.com/wesoftwarengineers/photos/a.229104420590616/1661956340638743)\n",
    "\n",
    "Lists are a very essential data type in Python. Think of lists as arrays. They can contain any type of variable and as many variables as needed. Lists can also be iterated over in a straightforward manner:"
   ]
  },
  {
   "cell_type": "code",
   "execution_count": null,
   "metadata": {
    "slideshow": {
     "slide_type": "subslide"
    }
   },
   "outputs": [],
   "source": [
    "number_list = []  # creates an empty list\n",
    "number_list.append(1)  # add elements at the end of the list\n",
    "number_list.append(2)\n",
    "number_list.append(3)\n",
    "print(number_list)\n",
    "print(number_list[0])  # accessing a single list element by its index\n",
    "print(number_list[2])\n",
    "\n",
    "print(\"Looping over the list:\")\n",
    "for number in number_list:\n",
    "    print(number)"
   ]
  },
  {
   "cell_type": "markdown",
   "metadata": {
    "deletable": false,
    "editable": false,
    "nbgrader": {
     "cell_type": "markdown",
     "checksum": "86bca1ba7d6406aaf8acd1c4ed3c5b76",
     "grade": false,
     "grade_id": "cell-9886c8e4609e54b6",
     "locked": true,
     "schema_version": 3,
     "solution": false,
     "task": false
    },
    "slideshow": {
     "slide_type": "subslide"
    }
   },
   "source": [
    "Accessing an index that doesn't exist generates an exception (``IndexError``):"
   ]
  },
  {
   "cell_type": "code",
   "execution_count": null,
   "metadata": {
    "slideshow": {
     "slide_type": "fragment"
    }
   },
   "outputs": [],
   "source": [
    "number_list = [1, 2, 3]\n",
    "print(number_list[9])"
   ]
  },
  {
   "cell_type": "markdown",
   "metadata": {
    "deletable": false,
    "editable": false,
    "nbgrader": {
     "cell_type": "markdown",
     "checksum": "63fdebad2955d5ba05e4321e2ac82bd8",
     "grade": false,
     "grade_id": "cell-897e9dfc5f720dd3",
     "locked": true,
     "schema_version": 3,
     "solution": false,
     "task": false
    },
    "slideshow": {
     "slide_type": "subslide"
    }
   },
   "source": [
    "### Negative Indexing\n",
    "With negative indexing it is possible to count the list elements starting with -1 from the list's tail.\n",
    "\n",
    "![Negative Indexing](https://developers.google.com/edu/python/images/hello.png)"
   ]
  },
  {
   "cell_type": "code",
   "execution_count": null,
   "metadata": {
    "slideshow": {
     "slide_type": "subslide"
    }
   },
   "outputs": [],
   "source": [
    "colors = ['red', 'green', 'blue', 'yellow', 'white', 'black']\n",
    "print('Last element:')\n",
    "print(colors[-1])\n",
    "print('Penultimate element:')\n",
    "print(colors[-2])"
   ]
  },
  {
   "cell_type": "markdown",
   "metadata": {
    "deletable": false,
    "editable": false,
    "nbgrader": {
     "cell_type": "markdown",
     "checksum": "28c3842704d455667b43287b57b06e83",
     "grade": false,
     "grade_id": "cell-73ee847a103a3bba",
     "locked": true,
     "schema_version": 3,
     "solution": false,
     "task": false
    },
    "slideshow": {
     "slide_type": "subslide"
    }
   },
   "source": [
    "### List Slicing\n",
    "Slicing a list is used when you want only want to retrieve a part of the list. The basic slicing syntax is ``start:stop``, with ``start`` being incluse, ``stop`` being exlusive."
   ]
  },
  {
   "cell_type": "code",
   "execution_count": null,
   "metadata": {
    "slideshow": {
     "slide_type": "fragment"
    }
   },
   "outputs": [],
   "source": [
    "numbers = [10, 20, 30, 40, 50, 60, 70, 80, 90]\n",
    "# take elements with index 2 to 6\n",
    "print(numbers[2:7])"
   ]
  },
  {
   "cell_type": "markdown",
   "metadata": {
    "deletable": false,
    "editable": false,
    "nbgrader": {
     "cell_type": "markdown",
     "checksum": "6e110c6ac55ef0221c5f0e5a30d2db7a",
     "grade": false,
     "grade_id": "cell-2b133d4efcd73631",
     "locked": true,
     "schema_version": 3,
     "solution": false,
     "task": false
    },
    "slideshow": {
     "slide_type": "subslide"
    }
   },
   "source": [
    "The full slicing syntax is ``start:stop:step``. ``step`` allows us to only take each nth element from the list:"
   ]
  },
  {
   "cell_type": "code",
   "execution_count": null,
   "metadata": {
    "slideshow": {
     "slide_type": "fragment"
    }
   },
   "outputs": [],
   "source": [
    "# take every 2nd element\n",
    "numbers[2:7:2]"
   ]
  },
  {
   "cell_type": "markdown",
   "metadata": {
    "deletable": false,
    "editable": false,
    "nbgrader": {
     "cell_type": "markdown",
     "checksum": "4a694e1b6e8271d8c162b5a19ba5e518",
     "grade": false,
     "grade_id": "cell-5166a0088bb3235b",
     "locked": true,
     "schema_version": 3,
     "solution": false,
     "task": false
    },
    "slideshow": {
     "slide_type": "subslide"
    }
   },
   "source": [
    "If ``start`` is the first element or ``stop`` is the last, you can drop the index:"
   ]
  },
  {
   "cell_type": "code",
   "execution_count": null,
   "metadata": {
    "slideshow": {
     "slide_type": "fragment"
    }
   },
   "outputs": [],
   "source": [
    "# take the first 5 elements\n",
    "print(numbers[:5])\n",
    "# take all elements beginning from index 5\n",
    "print(numbers[5:])"
   ]
  },
  {
   "cell_type": "markdown",
   "metadata": {
    "deletable": false,
    "editable": false,
    "nbgrader": {
     "cell_type": "markdown",
     "checksum": "a22a3fe5cd72c83bf0904ec2418cb9c8",
     "grade": false,
     "grade_id": "cell-985c78a4881e99eb",
     "locked": true,
     "schema_version": 3,
     "solution": false,
     "task": false
    },
    "slideshow": {
     "slide_type": "fragment"
    }
   },
   "source": [
    "Note that all the indexing methods showed above also work for strings (accessing characters)."
   ]
  },
  {
   "cell_type": "markdown",
   "metadata": {
    "deletable": false,
    "editable": false,
    "nbgrader": {
     "cell_type": "markdown",
     "checksum": "35cd7dc1a85ca7280b7e51659a451761",
     "grade": false,
     "grade_id": "cell-34ce2724627740af",
     "locked": true,
     "schema_version": 3,
     "solution": false,
     "task": false
    },
    "slideshow": {
     "slide_type": "slide"
    }
   },
   "source": [
    "<a name=\"operators\"></a>\n",
    "## Basic Operators\n",
    "Now, take a look at some basic mathematical operators such as ``+``, ``-`` or ``*`` and their behavior.\n",
    "\n",
    "At first, think of the equation $x = 1+\\frac{2\\cdot3}{4}$ and what the value of ``x`` will be. Then, program this equation in Python syntax and print the result."
   ]
  },
  {
   "cell_type": "code",
   "execution_count": null,
   "metadata": {
    "deletable": false,
    "nbgrader": {
     "cell_type": "code",
     "checksum": "d0b5549ac74123bbc20e5eb126ed3eaa",
     "grade": true,
     "grade_id": "cell-fc32f384030efd59",
     "locked": false,
     "points": 0,
     "schema_version": 3,
     "solution": true,
     "task": false
    },
    "slideshow": {
     "slide_type": "fragment"
    }
   },
   "outputs": [],
   "source": [
    "# YOUR CODE HERE\n",
    "raise NotImplementedError()\n",
    "print(x)"
   ]
  },
  {
   "cell_type": "markdown",
   "metadata": {
    "deletable": false,
    "editable": false,
    "nbgrader": {
     "cell_type": "markdown",
     "checksum": "6d8684d11379e4e52a6e1e17c84499b3",
     "grade": false,
     "grade_id": "cell-6d76611dc9a2c097",
     "locked": true,
     "schema_version": 3,
     "solution": false,
     "task": false
    },
    "slideshow": {
     "slide_type": "subslide"
    }
   },
   "source": [
    "**QUESTIONS**\n",
    "\n",
    "1. Are brackets required for grouping some expressions?\n",
    "1. Does Python stick to the mathetmatical order/hierarchy of operations?\n",
    "1. (How) Do you get a float as result?\n",
    "1. Search the Internet to find out what the power operator in Python is, i.e. how this equation will look like in Python syntax: $x = 7^2$?\n",
    "\n"
   ]
  },
  {
   "cell_type": "code",
   "execution_count": null,
   "metadata": {
    "deletable": false,
    "nbgrader": {
     "cell_type": "code",
     "checksum": "fa79f5ebf3eb2dc1fa794696fbdf25bb",
     "grade": true,
     "grade_id": "cell-4496bd5134e3d9e7",
     "locked": false,
     "points": 0,
     "schema_version": 3,
     "solution": true,
     "task": false
    },
    "slideshow": {
     "slide_type": "subslide"
    }
   },
   "outputs": [],
   "source": [
    "# YOUR CODE HERE\n",
    "raise NotImplementedError()\n",
    "print(x)"
   ]
  },
  {
   "cell_type": "markdown",
   "metadata": {
    "deletable": false,
    "editable": false,
    "nbgrader": {
     "cell_type": "markdown",
     "checksum": "1fbf6719fa4b1af9a1aa41953db001ed",
     "grade": false,
     "grade_id": "cell-dafe73c525b2cd5c",
     "locked": true,
     "schema_version": 3,
     "solution": false,
     "task": false
    },
    "slideshow": {
     "slide_type": "subslide"
    }
   },
   "source": [
    "### Basic Operators with Lists and Strings\n",
    "The operators ``+`` and ``*`` can also be applied to lists and strings. See what happens if you run the following code snippets:"
   ]
  },
  {
   "cell_type": "code",
   "execution_count": null,
   "metadata": {
    "slideshow": {
     "slide_type": "fragment"
    }
   },
   "outputs": [],
   "source": [
    "long_list = [1, 2, 3] * 3\n",
    "many_hellos = \"hello \" * 10\n",
    "print(long_list)\n",
    "print(many_hellos)\n",
    "odd_numbers = [1,3,5,7,9]\n",
    "even_numbers = [2,4,6,8]\n",
    "print(odd_numbers + even_numbers)"
   ]
  },
  {
   "cell_type": "markdown",
   "metadata": {
    "deletable": false,
    "editable": false,
    "nbgrader": {
     "cell_type": "markdown",
     "checksum": "914de101247246189d364f9a1cf68f60",
     "grade": false,
     "grade_id": "cell-1612455b00349caf",
     "locked": true,
     "schema_version": 3,
     "solution": false,
     "task": false
    },
    "slideshow": {
     "slide_type": "fragment"
    }
   },
   "source": [
    "[![String Multiplication](https://pbs.twimg.com/media/EgbsNnZUEAEgaQK.jpg)](https://pbs.twimg.com/media/EgbsNnZUEAEgaQK.jpg)"
   ]
  },
  {
   "cell_type": "markdown",
   "metadata": {
    "deletable": false,
    "editable": false,
    "nbgrader": {
     "cell_type": "markdown",
     "checksum": "6bc72d04d6589197836e6aedcef60ba1",
     "grade": false,
     "grade_id": "cell-cd87dc8ce10d8880",
     "locked": true,
     "schema_version": 3,
     "solution": false,
     "task": false
    },
    "slideshow": {
     "slide_type": "subslide"
    }
   },
   "source": [
    "**QUESTIONS**\n",
    "\n",
    "1. Does a list object preserve the order of the list elements (refer to the output of ``print(odd_numbers + even_numbers)``)?\n",
    "1. What will the result of ``print(long_list * 2)`` be?\n",
    "\n"
   ]
  },
  {
   "cell_type": "code",
   "execution_count": null,
   "metadata": {
    "deletable": false,
    "nbgrader": {
     "cell_type": "code",
     "checksum": "993c7e8849af261d7a1e4dc475c73868",
     "grade": true,
     "grade_id": "cell-262bcff1198d3c37",
     "locked": false,
     "points": 0,
     "schema_version": 3,
     "solution": true,
     "task": false
    },
    "slideshow": {
     "slide_type": "fragment"
    }
   },
   "outputs": [],
   "source": [
    "# YOUR CODE HERE\n",
    "raise NotImplementedError()"
   ]
  },
  {
   "cell_type": "markdown",
   "metadata": {
    "deletable": false,
    "editable": false,
    "nbgrader": {
     "cell_type": "markdown",
     "checksum": "e1a86c9af18435fc5d6ad6b55fd1ad1a",
     "grade": false,
     "grade_id": "cell-3c80d279e70790f7",
     "locked": true,
     "schema_version": 3,
     "solution": false,
     "task": false
    },
    "slideshow": {
     "slide_type": "slide"
    }
   },
   "source": [
    "<a name=\"strings\"></a>\n",
    "## String Operations and Formatting\n",
    "Python comes with a lot of built-in string operations. Here are just a few as an example:"
   ]
  },
  {
   "cell_type": "code",
   "execution_count": null,
   "metadata": {
    "slideshow": {
     "slide_type": "fragment"
    }
   },
   "outputs": [],
   "source": [
    "sentence = 'Johnathan is 25 years old and lives in Boston, MA, USA.'\n",
    "print(sentence.lower())\n",
    "print(sentence.split(\" \"))\n",
    "print(sentence.split(\" \")[0])"
   ]
  },
  {
   "cell_type": "markdown",
   "metadata": {
    "deletable": false,
    "editable": false,
    "nbgrader": {
     "cell_type": "markdown",
     "checksum": "9af53b94d580108f1f7efbbdf226ccb3",
     "grade": false,
     "grade_id": "cell-8e8c82fe7cd462dc",
     "locked": true,
     "schema_version": 3,
     "solution": false,
     "task": false
    },
    "slideshow": {
     "slide_type": "subslide"
    }
   },
   "source": [
    "As of Python version 3.6, string formatting has completely changed and is now easier, faster and more concise than ever. The strings use the prefix ``f`` and are thus called f-strings."
   ]
  },
  {
   "cell_type": "code",
   "execution_count": null,
   "metadata": {
    "slideshow": {
     "slide_type": "fragment"
    }
   },
   "outputs": [],
   "source": [
    "name = \"Johnathan\"\n",
    "age = 25\n",
    "height = 187.2\n",
    "print(f'{name} is {age} years old.\\nHe is {height:.2f} cm tall.\\nHis favourite number is {odd_numbers[1]}.')"
   ]
  },
  {
   "cell_type": "markdown",
   "metadata": {
    "deletable": false,
    "editable": false,
    "nbgrader": {
     "cell_type": "markdown",
     "checksum": "22877e32fcf03f9ffcb89779545ab51b",
     "grade": false,
     "grade_id": "cell-ea5c68f1bfb35593",
     "locked": true,
     "schema_version": 3,
     "solution": false,
     "task": false
    },
    "slideshow": {
     "slide_type": "subslide"
    }
   },
   "source": [
    "---\n",
    "**QUESTIONS**\n",
    "\n",
    "1. What happens if you change ``{height:.2f}`` to ``{height:.4f}``?\n",
    "1. Jonathan's nickname is 'John'. Print this with a single line of Python code by indexing the required characters in the string ``name`` directly in the print statement.\n",
    "\n",
    "---"
   ]
  },
  {
   "cell_type": "code",
   "execution_count": null,
   "metadata": {
    "deletable": false,
    "nbgrader": {
     "cell_type": "code",
     "checksum": "f3f2b6d3826ff42892547082fb1a5106",
     "grade": true,
     "grade_id": "cell-a1618f4d3a2e262e",
     "locked": false,
     "points": 0,
     "schema_version": 3,
     "solution": true,
     "task": false
    },
    "slideshow": {
     "slide_type": "fragment"
    }
   },
   "outputs": [],
   "source": [
    "# YOUR CODE HERE\n",
    "raise NotImplementedError()\n",
    "print(f\"{name}'s nickname is {nickname}.\")"
   ]
  },
  {
   "cell_type": "markdown",
   "metadata": {
    "deletable": false,
    "editable": false,
    "nbgrader": {
     "cell_type": "markdown",
     "checksum": "f1494c9cd4e4176e717d3f4facbe78e6",
     "grade": false,
     "grade_id": "cell-e5024379bddee850",
     "locked": true,
     "schema_version": 3,
     "solution": false,
     "task": false
    },
    "slideshow": {
     "slide_type": "subslide"
    }
   },
   "source": [
    "**QUESTIONS**\n",
    "\n",
    "3. How can you use the string function ``count`` to find out how many ``a``s the ``sentence`` contains?\n",
    "4. Can you apply functions iteratively on the same object, e.g. ``lower`` and ``count``?\n",
    "\n"
   ]
  },
  {
   "cell_type": "code",
   "execution_count": null,
   "metadata": {
    "deletable": false,
    "nbgrader": {
     "cell_type": "code",
     "checksum": "0fa07baaa00a377b48a3732bd91452ba",
     "grade": true,
     "grade_id": "cell-ee7fdac581744f9d",
     "locked": false,
     "points": 0,
     "schema_version": 3,
     "solution": true,
     "task": false
    },
    "slideshow": {
     "slide_type": "fragment"
    }
   },
   "outputs": [],
   "source": [
    "# YOUR CODE HERE\n",
    "raise NotImplementedError()\n",
    "print(f\"The sentence '{sentence}' contains {number_a} 'a's.\")"
   ]
  },
  {
   "cell_type": "markdown",
   "metadata": {
    "deletable": false,
    "editable": false,
    "nbgrader": {
     "cell_type": "markdown",
     "checksum": "5269819e7d0a12deab6e89b6469409bc",
     "grade": false,
     "grade_id": "cell-cc13f130ab0f9963",
     "locked": true,
     "schema_version": 3,
     "solution": false,
     "task": false
    },
    "slideshow": {
     "slide_type": "slide"
    }
   },
   "source": [
    "<a name=\"conditions\"></a>\n",
    "## Conditions\n",
    "Python uses boolean variables to evaluate conditions. The boolean values ``True`` and ``False`` are returned when an expression is compared or evaluated. For example:"
   ]
  },
  {
   "cell_type": "code",
   "execution_count": null,
   "metadata": {
    "slideshow": {
     "slide_type": "fragment"
    }
   },
   "outputs": [],
   "source": [
    "x = 2          # value assignment\n",
    "print(x == 2)  # equals\n",
    "print(x != 3)  # is not equal to\n",
    "print(x >= 3)  # is greater than or equal to\n",
    "print(x < 3)   # is lower than"
   ]
  },
  {
   "cell_type": "markdown",
   "metadata": {
    "deletable": false,
    "editable": false,
    "nbgrader": {
     "cell_type": "markdown",
     "checksum": "87efa9c32a5a96d90f64c1727034cb4a",
     "grade": false,
     "grade_id": "cell-a06894f32fa02ef1",
     "locked": true,
     "schema_version": 3,
     "solution": false,
     "task": false
    },
    "slideshow": {
     "slide_type": "subslide"
    }
   },
   "source": [
    "### False Values"
   ]
  },
  {
   "cell_type": "code",
   "execution_count": null,
   "metadata": {
    "slideshow": {
     "slide_type": "fragment"
    }
   },
   "outputs": [],
   "source": [
    "print(bool(None))\n",
    "print(bool(False))\n",
    "print(bool(0))\n",
    "print(bool(0.0))\n",
    "print(bool(''))\n",
    "print(bool([]))"
   ]
  },
  {
   "cell_type": "markdown",
   "metadata": {
    "deletable": false,
    "editable": false,
    "nbgrader": {
     "cell_type": "markdown",
     "checksum": "7654c4d8d610609f8f3e540a526dcb80",
     "grade": false,
     "grade_id": "cell-739a93fab3639add",
     "locked": true,
     "schema_version": 3,
     "solution": false,
     "task": false
    },
    "slideshow": {
     "slide_type": "subslide"
    }
   },
   "source": [
    "### True Values\n",
    "Everything else evaluates to ``True``."
   ]
  },
  {
   "cell_type": "code",
   "execution_count": null,
   "metadata": {
    "slideshow": {
     "slide_type": "fragment"
    }
   },
   "outputs": [],
   "source": [
    "print(bool(41))\n",
    "print(bool('abc'))\n",
    "print(bool([1, 'a', []]))\n",
    "\n",
    "print(bool([False]))\n",
    "print(bool(int))"
   ]
  },
  {
   "cell_type": "markdown",
   "metadata": {
    "deletable": false,
    "editable": false,
    "nbgrader": {
     "cell_type": "markdown",
     "checksum": "3f52dc56c88bcc6b688e4401c847cebb",
     "grade": false,
     "grade_id": "cell-32101507b4816869",
     "locked": true,
     "schema_version": 3,
     "solution": false,
     "task": false
    },
    "slideshow": {
     "slide_type": "subslide"
    }
   },
   "source": [
    "### Boolean Operators\n",
    "The ``and`` and ``or`` boolean operators allow building complex boolean expressions:"
   ]
  },
  {
   "cell_type": "code",
   "execution_count": null,
   "metadata": {
    "slideshow": {
     "slide_type": "fragment"
    }
   },
   "outputs": [],
   "source": [
    "name = \"John\"\n",
    "age = 23\n",
    "if name == \"John\" and age == 23:\n",
    "    print(\"Your name is John, and you are also 23 years old.\")\n",
    "\n",
    "if name == \"John\" or name == \"Rick\":\n",
    "    print(\"Your name is either John or Rick.\")"
   ]
  },
  {
   "cell_type": "markdown",
   "metadata": {
    "deletable": false,
    "editable": false,
    "nbgrader": {
     "cell_type": "markdown",
     "checksum": "ee03d5f13f68b868c914365be2f352d7",
     "grade": false,
     "grade_id": "cell-f8a206dfef59f54c",
     "locked": true,
     "schema_version": 3,
     "solution": false,
     "task": false
    },
    "slideshow": {
     "slide_type": "subslide"
    }
   },
   "source": [
    "### The \"in\" and \"not\" Operators\n",
    "The ``in`` operator could be used to check if a specified object exists within an iterable object container, such as a list. ``not`` is used to invert a statement:"
   ]
  },
  {
   "cell_type": "code",
   "execution_count": null,
   "metadata": {
    "slideshow": {
     "slide_type": "fragment"
    }
   },
   "outputs": [],
   "source": [
    "name = \"John\"\n",
    "if name in [\"John\", \"Rick\"]:\n",
    "    print(\"Your name is either John or Rick.\")\n",
    "    \n",
    "if name not in [\"Rick\", \"Steve\"]:\n",
    "    print(\"Your name is other than Rick or Steve.\")"
   ]
  },
  {
   "cell_type": "markdown",
   "metadata": {
    "deletable": false,
    "editable": false,
    "nbgrader": {
     "cell_type": "markdown",
     "checksum": "92cc17f6bb5bd801be176087e32e6078",
     "grade": false,
     "grade_id": "cell-b964a39202cbbb2d",
     "locked": true,
     "schema_version": 3,
     "solution": false,
     "task": false
    },
    "slideshow": {
     "slide_type": "subslide"
    }
   },
   "source": [
    "### The \"is\" Operator\n",
    "Unlike the double equals operator \"==\", the \"is\" operator does not match the values of the variables, but the instances themselves."
   ]
  },
  {
   "cell_type": "code",
   "execution_count": null,
   "metadata": {
    "slideshow": {
     "slide_type": "fragment"
    }
   },
   "outputs": [],
   "source": [
    "x = [1, 2, 3]\n",
    "y = [1, 2, 3]\n",
    "print(x == y)\n",
    "print(x is y)"
   ]
  },
  {
   "cell_type": "markdown",
   "metadata": {
    "deletable": false,
    "editable": false,
    "nbgrader": {
     "cell_type": "markdown",
     "checksum": "ccedf9a5d521f4073888217b43c18881",
     "grade": false,
     "grade_id": "cell-f0a941619ebb07ce",
     "locked": true,
     "schema_version": 3,
     "solution": false,
     "task": false
    },
    "slideshow": {
     "slide_type": "subslide"
    }
   },
   "source": [
    "**QUESTIONS**\n",
    "\n",
    "1. What would you need to change in order for the statement ``print(x is y)`` to be ``True``?\n",
    "1. What is the Boolean value of an empty list?\n",
    "\n",
    "\n"
   ]
  },
  {
   "cell_type": "markdown",
   "metadata": {
    "deletable": false,
    "editable": false,
    "nbgrader": {
     "cell_type": "markdown",
     "checksum": "e3867eb96a03e54719e826d5b0d19824",
     "grade": false,
     "grade_id": "cell-a0ec15d57941486a",
     "locked": true,
     "schema_version": 3,
     "solution": false,
     "task": false
    },
    "slideshow": {
     "slide_type": "subslide"
    }
   },
   "source": [
    "### The if-Statement\n",
    "The full syntax of an if-statement looks as follows:"
   ]
  },
  {
   "cell_type": "code",
   "execution_count": null,
   "metadata": {
    "slideshow": {
     "slide_type": "fragment"
    }
   },
   "outputs": [],
   "source": [
    "x = 5\n",
    "if x > 5:\n",
    "    print(\"x is larger than 5.\")\n",
    "elif x < 5:\n",
    "    print(\"x is smaller than 5.\")\n",
    "else:\n",
    "    print(\"x is 5.\")"
   ]
  },
  {
   "cell_type": "markdown",
   "metadata": {
    "deletable": false,
    "editable": false,
    "nbgrader": {
     "cell_type": "markdown",
     "checksum": "c5a5cab60be9bc3b09df6541d9b0287b",
     "grade": false,
     "grade_id": "cell-7b9dbf618e893673",
     "locked": true,
     "schema_version": 3,
     "solution": false,
     "task": false
    },
    "slideshow": {
     "slide_type": "slide"
    }
   },
   "source": [
    "<a name=\"loops\"></a>\n",
    "## Loops\n",
    "There are two types of loops in Python, ``for`` and ``while``."
   ]
  },
  {
   "cell_type": "markdown",
   "metadata": {
    "deletable": false,
    "editable": false,
    "nbgrader": {
     "cell_type": "markdown",
     "checksum": "cdabb186dd6dc814b921093a28c62d6b",
     "grade": false,
     "grade_id": "cell-95295d956ca366a7",
     "locked": true,
     "schema_version": 3,
     "solution": false,
     "task": false
    },
    "slideshow": {
     "slide_type": "subslide"
    }
   },
   "source": [
    "### The for Loop\n",
    "<img src=\"https://swcarpentry.github.io/python-novice-inflammation/fig/loops_image.png\" width=\"250\">\n"
   ]
  },
  {
   "cell_type": "markdown",
   "metadata": {
    "deletable": false,
    "editable": false,
    "nbgrader": {
     "cell_type": "markdown",
     "checksum": "864efe5bc6d99e7383b234804e557bcb",
     "grade": false,
     "grade_id": "cell-0edcccf0001926e0",
     "locked": true,
     "schema_version": 3,
     "solution": false,
     "task": false
    },
    "slideshow": {
     "slide_type": "subslide"
    }
   },
   "source": [
    "For loops iterate over a given sequence, such as a list."
   ]
  },
  {
   "cell_type": "code",
   "execution_count": null,
   "metadata": {
    "slideshow": {
     "slide_type": "fragment"
    }
   },
   "outputs": [],
   "source": [
    "primes = [2, 3, 5, 7]\n",
    "for prime in primes:\n",
    "    print(prime)"
   ]
  },
  {
   "cell_type": "markdown",
   "metadata": {
    "deletable": false,
    "editable": false,
    "nbgrader": {
     "cell_type": "markdown",
     "checksum": "d086d4949983fdc63fa94bd020886135",
     "grade": false,
     "grade_id": "cell-3c3f9582b2be9725",
     "locked": true,
     "schema_version": 3,
     "solution": false,
     "task": false
    },
    "slideshow": {
     "slide_type": "subslide"
    }
   },
   "source": [
    "For loops can iterate over a sequence of numbers using the ``range`` function. The way ``range`` works is quite similar to list slicing:"
   ]
  },
  {
   "cell_type": "code",
   "execution_count": null,
   "metadata": {
    "slideshow": {
     "slide_type": "fragment"
    }
   },
   "outputs": [],
   "source": [
    "for x in range(5):\n",
    "    print(x)"
   ]
  },
  {
   "cell_type": "code",
   "execution_count": null,
   "metadata": {
    "slideshow": {
     "slide_type": "fragment"
    }
   },
   "outputs": [],
   "source": [
    "for x in range(3, 6):\n",
    "    print(x)"
   ]
  },
  {
   "cell_type": "code",
   "execution_count": null,
   "metadata": {
    "slideshow": {
     "slide_type": "fragment"
    }
   },
   "outputs": [],
   "source": [
    "for x in range(3, 8, 2):\n",
    "    print(x)"
   ]
  },
  {
   "cell_type": "markdown",
   "metadata": {
    "deletable": false,
    "editable": false,
    "nbgrader": {
     "cell_type": "markdown",
     "checksum": "0eddf2cd535acdb8ee0589c5eb6431e0",
     "grade": false,
     "grade_id": "cell-fdafc812dbe446f6",
     "locked": true,
     "schema_version": 3,
     "solution": false,
     "task": false
    },
    "slideshow": {
     "slide_type": "subslide"
    }
   },
   "source": [
    "### while Loops\n",
    "While loops repeat as long as a certain boolean condition is met."
   ]
  },
  {
   "cell_type": "markdown",
   "metadata": {
    "deletable": false,
    "editable": false,
    "nbgrader": {
     "cell_type": "markdown",
     "checksum": "1d9656f46bc5325918cd7566307b752a",
     "grade": false,
     "grade_id": "cell-42d14bee43082424",
     "locked": true,
     "schema_version": 3,
     "solution": false,
     "task": false
    },
    "slideshow": {
     "slide_type": "subslide"
    }
   },
   "source": [
    "**QUESTIONS**\n",
    "\n",
    "1. What does the statement ``count += 1`` do?\n",
    "1. Search the Internet to find out what the statements ``break`` and ``continue`` can be used for.\n"
   ]
  },
  {
   "cell_type": "code",
   "execution_count": null,
   "metadata": {
    "slideshow": {
     "slide_type": "fragment"
    }
   },
   "outputs": [],
   "source": [
    "count = 0\n",
    "while count < 5:\n",
    "    print(count)\n",
    "    count += 1"
   ]
  },
  {
   "cell_type": "markdown",
   "metadata": {
    "deletable": false,
    "editable": false,
    "nbgrader": {
     "cell_type": "markdown",
     "checksum": "89f9eea05c9ddfcaa482b86538071d96",
     "grade": false,
     "grade_id": "cell-333a95caf8d0cfac",
     "locked": true,
     "schema_version": 3,
     "solution": false,
     "task": false
    },
    "slideshow": {
     "slide_type": "slide"
    }
   },
   "source": [
    "\n",
    "<a name=\"exercise\"></a>\n",
    "## Wrap-up Exercises\n",
    "1. Write  a code snippet implementing the following value assignment: $x = \\frac{5^3-4}{2+6}$. Then, print the result using exactly 2 digits after the decimal point."
   ]
  },
  {
   "cell_type": "code",
   "execution_count": null,
   "metadata": {
    "deletable": false,
    "nbgrader": {
     "cell_type": "code",
     "checksum": "bc0a0b8723c3c28a9b2880ad1bd92fbc",
     "grade": true,
     "grade_id": "cell-b579208c785f960d",
     "locked": false,
     "points": 0,
     "schema_version": 3,
     "solution": true,
     "task": false
    },
    "slideshow": {
     "slide_type": "skip"
    }
   },
   "outputs": [],
   "source": [
    "# YOUR CODE HERE\n",
    "raise NotImplementedError()"
   ]
  },
  {
   "cell_type": "markdown",
   "metadata": {
    "deletable": false,
    "editable": false,
    "nbgrader": {
     "cell_type": "markdown",
     "checksum": "4241ef2e275f1ae3e47bcd51cb6a5e82",
     "grade": false,
     "grade_id": "cell-66fe3175f924eabf",
     "locked": true,
     "schema_version": 3,
     "solution": false,
     "task": false
    },
    "slideshow": {
     "slide_type": "fragment"
    }
   },
   "source": [
    "\n",
    "<a name=\"exercise\"></a>\n",
    "2. Write a code snippet that loops over all numbers from 1 to 105, checks if the number is divisible by 7 and if so, appends the number to a list ``multiplies_of_seven``. Print the two tailing elements of the list. Finally, loop over this list and print all multiplies of seven. \n",
    "\n",
    "*Hint:* You might need the modulo operator ``%``.\n",
    "\n",
    "*Optional:* Skip the first three entries using ``continue``."
   ]
  },
  {
   "cell_type": "code",
   "execution_count": null,
   "metadata": {
    "deletable": false,
    "nbgrader": {
     "cell_type": "code",
     "checksum": "1becfc90d222824ecf86e80fbe25230f",
     "grade": true,
     "grade_id": "cell-392219cbf44d364d",
     "locked": false,
     "points": 0,
     "schema_version": 3,
     "solution": true,
     "task": false
    },
    "slideshow": {
     "slide_type": "skip"
    }
   },
   "outputs": [],
   "source": [
    "# YOUR CODE HERE\n",
    "raise NotImplementedError()"
   ]
  },
  {
   "cell_type": "markdown",
   "metadata": {
    "deletable": false,
    "editable": false,
    "nbgrader": {
     "cell_type": "markdown",
     "checksum": "28078b95233c911a416e1c6996c84b47",
     "grade": false,
     "grade_id": "cell-18d5ebc5cda4719b",
     "locked": true,
     "schema_version": 3,
     "solution": false,
     "task": false
    },
    "slideshow": {
     "slide_type": "fragment"
    }
   },
   "source": [
    "\n",
    "<a name=\"exercise\"></a>\n",
    "3. Use the Python built-in function ``input`` to read in a user-submitted word. Then, check if this word is a palindrome (= spelled the same backwards and forwards). Do so by exploiting negative indexing and slicing. Print an answer corresponding to whether the word is a palindrome or not."
   ]
  },
  {
   "cell_type": "code",
   "execution_count": null,
   "metadata": {
    "deletable": false,
    "nbgrader": {
     "cell_type": "code",
     "checksum": "2a397fdf3b07b47d221b6f622045acdf",
     "grade": true,
     "grade_id": "cell-de50cab6807fead8",
     "locked": false,
     "points": 0,
     "schema_version": 3,
     "solution": true,
     "task": false
    },
    "slideshow": {
     "slide_type": "skip"
    }
   },
   "outputs": [],
   "source": [
    "# YOUR CODE HERE\n",
    "raise NotImplementedError()"
   ]
  },
  {
   "cell_type": "markdown",
   "metadata": {
    "deletable": false,
    "editable": false,
    "nbgrader": {
     "cell_type": "markdown",
     "checksum": "6f6f48feb5ed2f45d810c1a62de181bb",
     "grade": false,
     "grade_id": "cell-3f9050248b850b58",
     "locked": true,
     "schema_version": 3,
     "solution": false,
     "task": false
    },
    "slideshow": {
     "slide_type": "slide"
    }
   },
   "source": [
    "# Inspriation/Further Reading\n",
    "- [learnpython](https://www.learnpython.org/)\n",
    "- [List Slicing](https://railsware.com/blog/python-for-machine-learning-indexing-and-slicing-for-lists-tuples-strings-and-other-sequential-types/)\n",
    "- [f-strings](https://realpython.com/python-f-strings/)\n",
    "- [CS41](https://stanfordpython.com/)\n",
    "- [Learn X in Y Minutes](https://learnxinyminutes.com/docs/python3/)"
   ]
  }
 ],
 "metadata": {
  "kernelspec": {
   "display_name": "Python 3 (ipykernel)",
   "language": "python",
   "name": "python3"
  },
  "language_info": {
   "codemirror_mode": {
    "name": "ipython",
    "version": 3
   },
   "file_extension": ".py",
   "mimetype": "text/x-python",
   "name": "python",
   "nbconvert_exporter": "python",
   "pygments_lexer": "ipython3",
   "version": "3.8.10"
  },
  "rise": {
   "theme": "serif"
  }
 },
 "nbformat": 4,
 "nbformat_minor": 4
}
